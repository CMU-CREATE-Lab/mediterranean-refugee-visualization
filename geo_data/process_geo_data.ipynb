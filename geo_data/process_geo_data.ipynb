{
 "cells": [
  {
   "cell_type": "code",
   "execution_count": 26,
   "metadata": {
    "collapsed": false
   },
   "outputs": [
    {
     "name": "stdout",
     "output_type": "stream",
     "text": [
      "Invalid: U.S. Minor Outlying Islands, , \n"
     ]
    }
   ],
   "source": [
    "import json, csv\n",
    "\n",
    "with open('country_list.json') as data_file:    \n",
    "    countries = json.load(data_file)\n",
    "\n",
    "with open('country_lat_long.csv', 'r') as csvfile:\n",
    "    country_lat_lon = {}\n",
    "    fieldnames = ['name', 'lat', 'lon']\n",
    "    reader = csv.DictReader(csvfile, fieldnames=fieldnames)\n",
    "    for row in reader:\n",
    "        try:\n",
    "            lat_lon = {}\n",
    "            lat_lon[\"lat\"] = float(row[\"lat\"])\n",
    "            lat_lon[\"lon\"] = float(row[\"lon\"])\n",
    "            country_lat_lon[str(row[\"name\"])] = lat_lon\n",
    "        except ValueError:\n",
    "            print \"Invalid: {0}, {1}, {2}\".format(row[\"name\"],row[\"lat\"],row[\"lon\"])\n",
    "\n",
    "def get_country_code(name):\n",
    "    for country in countries:\n",
    "        if name.lower() in country[\"name_en\"].lower() or country[\"name_en\"].lower() in name.lower():\n",
    "            return country[\"country_code\"]\n",
    "    return None\n",
    "\n",
    "def get_country_name(code):\n",
    "    for country in countries:\n",
    "        if code.lower() == country[\"country_code\"].lower():\n",
    "            return country[\"name_en\"]\n",
    "    return None\n",
    "\n",
    "def get_all_country_codes():\n",
    "    return [country[\"country_code\"] for country in countries]\n",
    "\n",
    "def get_lat_lon_by_name(name):\n",
    "    return country_lat_lon[name]\n",
    "\n",
    "def get_lat_lon_by_code(code):\n",
    "    return get_lat_lon_by_name(get_country_name(code))\n"
   ]
  },
  {
   "cell_type": "code",
   "execution_count": 27,
   "metadata": {
    "collapsed": false,
    "scrolled": true
   },
   "outputs": [
    {
     "name": "stdout",
     "output_type": "stream",
     "text": [
      "Greece\n",
      "{'lat': 39.074208, 'lon': 21.824312}\n"
     ]
    }
   ],
   "source": [
    "print get_country_name(\"GRE\")\n",
    "print get_lat_lon_by_code(\"GRE\")\n",
    "\n"
   ]
  },
  {
   "cell_type": "code",
   "execution_count": 32,
   "metadata": {
    "collapsed": false
   },
   "outputs": [
    {
     "name": "stdout",
     "output_type": "stream",
     "text": [
      "{'origin_geo': {'MOZ': {'lat': -18.665695, 'lon': 35.529562}, 'AFG': {'lat': 33.93911, 'lon': 67.709953}, 'BEN': {'lat': 9.30769, 'lon': 2.315834}, 'IRQ': {'lat': 33.223191, 'lon': 43.679291}, 'UGA': {'lat': 1.373333, 'lon': 32.290275}, 'MLI': {'lat': 17.570692, 'lon': -3.996166}, 'SOM': {'lat': 5.152149, 'lon': 46.199616}, 'GNB': {'lat': 11.803749, 'lon': -15.180413}, 'SYR': {'lat': 34.802075, 'lon': 38.996815}, 'GHA': {'lat': 7.946527, 'lon': -1.023194}, 'TUN': {'lat': 33.886917, 'lon': 9.537499}, 'SEN': {'lat': 14.497401, 'lon': -14.452362}, 'ETH': {'lat': 9.145, 'lon': 40.489673}, 'PAK': {'lat': 30.375321, 'lon': 69.345116}, 'CMR': {'lat': 7.369722, 'lon': 12.354722}}, 'asylum_geo': {'SPA': {'lat': 40.463667, 'lon': -3.74922}, 'MTA': {'lat': 35.937496, 'lon': 14.375416}, 'GRE': {'lat': 39.074208, 'lon': 21.824312}, 'ITA': {'lat': 41.87194, 'lon': 12.56738}}}\n"
     ]
    }
   ],
   "source": [
    "geo_data = {}\n",
    "with open('../json_store/all_data.json') as data_file:\n",
    "    data = json.load(data_file)\n",
    "    asyl_geo = {}\n",
    "    origin_geo = {}\n",
    "    for key in data:\n",
    "        asyl_geo[str(key)] = get_lat_lon_by_code(key)\n",
    "        for or_key in data[key][\"origins\"]:\n",
    "            origin_geo[str(or_key)] = get_lat_lon_by_code(or_key)\n",
    "geo_data['asylum_geo'] = asyl_geo\n",
    "geo_data['origin_geo'] = origin_geo\n",
    "\n",
    "print geo_data\n",
    "\n",
    "with open('geo_data.json', 'w') as outfile:\n",
    "    json.dump(geo_data, outfile)\n",
    "        "
   ]
  },
  {
   "cell_type": "code",
   "execution_count": null,
   "metadata": {
    "collapsed": true
   },
   "outputs": [],
   "source": []
  }
 ],
 "metadata": {
  "kernelspec": {
   "display_name": "Python 2",
   "language": "python",
   "name": "python2"
  },
  "language_info": {
   "codemirror_mode": {
    "name": "ipython",
    "version": 2
   },
   "file_extension": ".py",
   "mimetype": "text/x-python",
   "name": "python",
   "nbconvert_exporter": "python",
   "pygments_lexer": "ipython2",
   "version": "2.7.11"
  }
 },
 "nbformat": 4,
 "nbformat_minor": 0
}
