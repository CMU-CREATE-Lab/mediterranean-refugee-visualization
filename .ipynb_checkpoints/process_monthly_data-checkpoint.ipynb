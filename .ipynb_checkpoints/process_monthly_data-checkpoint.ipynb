{
 "cells": [
  {
   "cell_type": "code",
   "execution_count": 6,
   "metadata": {
    "collapsed": false
   },
   "outputs": [
    {
     "name": "stdout",
     "output_type": "stream",
     "text": [
      "['ITA', 'SPA', 'MTA', 'GRE']\n"
     ]
    }
   ],
   "source": [
    "import json\n",
    "\n",
    "from os import listdir\n",
    "from os.path import isfile, join, isdir\n",
    "\n",
    "countries_root = 'json_store/by_country/'\n",
    "\n",
    "country_folders = [f for f in listdir(countries_root) if not isdir(f)]\n",
    "print country_folders\n",
    "\n",
    "#calculates amount of people who immigrated into a country from \n",
    "#a certain place within the month \n",
    "def immigrated_in_month_from(total_year, total_from_year, total_month):\n",
    "    percent_from = total_from_year/float(total_year)\n",
    "    return int(round(total_month*percent_from, 0))\n",
    "    \n",
    "\n",
    "\n",
    "# with open('json_store/monthly_by_country.json') as data_file:    \n",
    "#     monthly_data = json.load(data_file)"
   ]
  },
  {
   "cell_type": "code",
   "execution_count": 7,
   "metadata": {
    "collapsed": false
   },
   "outputs": [
    {
     "name": "stdout",
     "output_type": "stream",
     "text": [
      "{'SPA': {'yearly': {2016: 1352, 2014: 4348, 2015: 4408}, 'monthly': {2016: {1: 447, 2: 180, 3: 276, 4: 449, 5: 0, 6: 0}, 2014: {1: 144, 2: 33, 3: 232, 4: 148, 5: 325, 6: 246, 7: 264, 8: 1705, 9: 380, 10: 341, 11: 211, 12: 319}, 2015: {1: 241, 2: 44, 3: 267, 4: 240, 5: 438, 6: 377, 7: 346, 8: 385, 9: 459, 10: 795, 11: 508, 12: 308}}, 'origins': {u'MOZ': 25, u'KEN': 4, u'UGA': 5, u'MLI': 31, u'GNB': 26, u'SEN': 3, u'CMR': 191}}, 'MTA': {'yearly': {2016: 0, 2014: 568, 2015: 105}, 'monthly': {2016: {1: 0, 2: 0, 3: 0, 4: 0, 5: 0, 6: 0}, 2014: {1: 0, 2: 0, 3: 91, 4: 0, 5: 0, 6: 136, 7: 81, 8: 257, 9: 3, 10: 0, 11: 0, 12: 0}, 2015: {1: 87, 2: 0, 3: 0, 4: 5, 5: 0, 6: 2, 7: 2, 8: 2, 9: 7, 10: 0, 11: 0, 12: 0}}, 'origins': {}}, 'GRE': {'yearly': {2016: 157801, 2014: 41038, 2015: 856723}, 'monthly': {2016: {1: 67415, 2: 57066, 3: 26971, 4: 3650, 5: 1721, 6: 978}, 2014: {1: 955, 2: 1001, 3: 1501, 4: 1257, 5: 1703, 6: 3198, 7: 3927, 8: 6742, 9: 7454, 10: 7432, 11: 3812, 12: 2056}, 2015: {1: 1694, 2: 2873, 3: 7874, 4: 13556, 5: 17889, 6: 31318, 7: 54899, 8: 107843, 9: 147123, 10: 211663, 11: 151249, 12: 108742}}, 'origins': {u'SYR': 75388, u'PAK': 6299, u'AFG': 39502, u'IRQ': 23994}}, 'ITA': {'yearly': {2016: 52637, 2014: 170100, 2015: 153842}, 'monthly': {2016: {1: 5273, 2: 3828, 3: 9676, 4: 9149, 5: 19884, 6: 4827}, 2014: {1: 2171, 2: 3335, 3: 5459, 4: 15679, 5: 14599, 6: 22641, 7: 24031, 8: 24774, 9: 26107, 10: 15277, 11: 9295, 12: 6732}, 2015: {1: 3528, 2: 4354, 3: 2283, 4: 16063, 5: 21235, 6: 22891, 7: 23186, 8: 22609, 9: 15922, 10: 8916, 11: 3218, 12: 9637}}, 'origins': {u'BEN': 183, u'MLI': 2614, u'SOM': 3450, u'GNB': 254, u'ARE': 1815, u'TUN': 320, u'SLE': 217, u'SEN': 2565, u'ETH': 1012, u'PAK': 75, u'CMR': 777, u'GHA': 995}}}\n"
     ]
    }
   ],
   "source": [
    "all_data = {}\n",
    "\n",
    "for country_folder in country_folders:\n",
    "    country_obj = {}\n",
    "    \n",
    "    with open('{0}{1}/monthly{1}.json'.format(countries_root, country_folder)) as data_file: \n",
    "        data_f = json.load(data_file)\n",
    "        prevYear = data_f[0][\"year\"]\n",
    "        all_months = {}\n",
    "        monthly = {}\n",
    "        yearly = {}\n",
    "        for data in data_f:\n",
    "            yearly[data[\"year\"]] = yearly.get(data[\"year\"], 0) + data[\"value\"]\n",
    "            if data[\"year\"] == prevYear:\n",
    "                all_months[data[\"month\"]] = data[\"value\"]\n",
    "            else:\n",
    "                monthly[prevYear] = all_months\n",
    "                all_months = {}\n",
    "                all_months[data[\"month\"]] = data[\"value\"]\n",
    "            prevYear = data[\"year\"]\n",
    "        monthly[prevYear] = all_months\n",
    "        all_months[data[\"month\"]] = data[\"value\"]\n",
    "        country_obj[\"yearly\"] = yearly\n",
    "        country_obj[\"monthly\"] = monthly\n",
    "        \n",
    "        \n",
    "        \n",
    "    origin_files = [f for f in listdir(countries_root+country_folder) if 'from' in f]\n",
    "    origins = {}\n",
    "    for origin_file in origin_files:\n",
    "        with open('{0}{1}/{2}'.format(countries_root, country_folder, origin_file)) as data_file:\n",
    "                data = json.load(data_file)[0]\n",
    "                origins[data[\"country_of_origin\"]] = data[\"value\"]\n",
    "    country_obj[\"origins\"] = origins\n",
    "    \n",
    "    \n",
    "    all_data[country_folder] = country_obj\n",
    "print all_data\n",
    "\n",
    "with open('json_store/all_data.json', 'w') as outfile:\n",
    "    json.dump(all_data, outfile)"
   ]
  },
  {
   "cell_type": "code",
   "execution_count": 12,
   "metadata": {
    "collapsed": false
   },
   "outputs": [
    {
     "name": "stdout",
     "output_type": "stream",
     "text": [
      "{'SPA': {2016: {1: {'MOZ': 1, 'KEN': 0, 'UGA': 0, 'MLI': 1, 'GNB': 1, 'SEN': 0, 'CMR': 8}, 2: {'MOZ': 0, 'KEN': 0, 'UGA': 0, 'MLI': 1, 'GNB': 0, 'SEN': 0, 'CMR': 3}, 3: {'MOZ': 1, 'KEN': 0, 'UGA': 0, 'MLI': 1, 'GNB': 1, 'SEN': 0, 'CMR': 5}, 4: {'MOZ': 1, 'KEN': 0, 'UGA': 0, 'MLI': 1, 'GNB': 1, 'SEN': 0, 'CMR': 8}, 5: {'MOZ': 0, 'KEN': 0, 'UGA': 0, 'MLI': 0, 'GNB': 0, 'SEN': 0, 'CMR': 0}, 6: {'MOZ': 0, 'KEN': 0, 'UGA': 0, 'MLI': 0, 'GNB': 0, 'SEN': 0, 'CMR': 0}}, 2014: {1: {'MOZ': 0, 'KEN': 0, 'UGA': 0, 'MLI': 0, 'GNB': 0, 'SEN': 0, 'CMR': 3}, 2: {'MOZ': 0, 'KEN': 0, 'UGA': 0, 'MLI': 0, 'GNB': 0, 'SEN': 0, 'CMR': 1}, 3: {'MOZ': 1, 'KEN': 0, 'UGA': 0, 'MLI': 1, 'GNB': 1, 'SEN': 0, 'CMR': 4}, 4: {'MOZ': 0, 'KEN': 0, 'UGA': 0, 'MLI': 0, 'GNB': 0, 'SEN': 0, 'CMR': 3}, 5: {'MOZ': 1, 'KEN': 0, 'UGA': 0, 'MLI': 1, 'GNB': 1, 'SEN': 0, 'CMR': 6}, 6: {'MOZ': 1, 'KEN': 0, 'UGA': 0, 'MLI': 1, 'GNB': 1, 'SEN': 0, 'CMR': 5}, 7: {'MOZ': 1, 'KEN': 0, 'UGA': 0, 'MLI': 1, 'GNB': 1, 'SEN': 0, 'CMR': 5}, 8: {'MOZ': 4, 'KEN': 1, 'UGA': 1, 'MLI': 5, 'GNB': 4, 'SEN': 1, 'CMR': 32}, 9: {'MOZ': 1, 'KEN': 0, 'UGA': 0, 'MLI': 1, 'GNB': 1, 'SEN': 0, 'CMR': 7}, 10: {'MOZ': 1, 'KEN': 0, 'UGA': 0, 'MLI': 1, 'GNB': 1, 'SEN': 0, 'CMR': 6}, 11: {'MOZ': 1, 'KEN': 0, 'UGA': 0, 'MLI': 1, 'GNB': 1, 'SEN': 0, 'CMR': 4}, 12: {'MOZ': 1, 'KEN': 0, 'UGA': 0, 'MLI': 1, 'GNB': 1, 'SEN': 0, 'CMR': 6}}, 2015: {1: {'MOZ': 1, 'KEN': 0, 'UGA': 0, 'MLI': 1, 'GNB': 1, 'SEN': 0, 'CMR': 5}, 2: {'MOZ': 0, 'KEN': 0, 'UGA': 0, 'MLI': 0, 'GNB': 0, 'SEN': 0, 'CMR': 1}, 3: {'MOZ': 1, 'KEN': 0, 'UGA': 0, 'MLI': 1, 'GNB': 1, 'SEN': 0, 'CMR': 5}, 4: {'MOZ': 1, 'KEN': 0, 'UGA': 0, 'MLI': 1, 'GNB': 1, 'SEN': 0, 'CMR': 5}, 5: {'MOZ': 1, 'KEN': 0, 'UGA': 0, 'MLI': 1, 'GNB': 1, 'SEN': 0, 'CMR': 8}, 6: {'MOZ': 1, 'KEN': 0, 'UGA': 0, 'MLI': 1, 'GNB': 1, 'SEN': 0, 'CMR': 7}, 7: {'MOZ': 1, 'KEN': 0, 'UGA': 0, 'MLI': 1, 'GNB': 1, 'SEN': 0, 'CMR': 7}, 8: {'MOZ': 1, 'KEN': 0, 'UGA': 0, 'MLI': 1, 'GNB': 1, 'SEN': 0, 'CMR': 7}, 9: {'MOZ': 1, 'KEN': 0, 'UGA': 0, 'MLI': 1, 'GNB': 1, 'SEN': 0, 'CMR': 9}, 10: {'MOZ': 2, 'KEN': 0, 'UGA': 0, 'MLI': 2, 'GNB': 2, 'SEN': 0, 'CMR': 15}, 11: {'MOZ': 1, 'KEN': 0, 'UGA': 0, 'MLI': 2, 'GNB': 1, 'SEN': 0, 'CMR': 10}, 12: {'MOZ': 1, 'KEN': 0, 'UGA': 0, 'MLI': 1, 'GNB': 1, 'SEN': 0, 'CMR': 6}}}, 'MTA': {2016: {1: {}, 2: {}, 3: {}, 4: {}, 5: {}, 6: {}}, 2014: {1: {}, 2: {}, 3: {}, 4: {}, 5: {}, 6: {}, 7: {}, 8: {}, 9: {}, 10: {}, 11: {}, 12: {}}, 2015: {1: {}, 2: {}, 3: {}, 4: {}, 5: {}, 6: {}, 7: {}, 8: {}, 9: {}, 10: {}, 11: {}, 12: {}}}, 'deaths': {u'2015': {u'11': 106, u'10': 432, u'12': 210, u'1': 82, u'3': 61, u'2': 345, u'5': 95, u'4': 1244, u'7': 230, u'6': 11, u'9': 268, u'8': 686}, u'2014': {u'11': 22, u'10': 126, u'12': 95, u'1': 12, u'3': 10, u'2': 24, u'5': 329, u'4': 50, u'7': 864, u'6': 318, u'9': 813, u'8': 616}, u'2016': {u'11': 0, u'10': 0, u'12': 0, u'1': 369, u'3': 325, u'2': 54, u'5': 1138, u'4': 630, u'7': 0, u'6': 345, u'9': 0, u'8': 0}}, 'GRE': {2016: {1: {'SYR': 4815, 'PAK': 402, 'AFG': 2523, 'IRQ': 1532}, 2: {'SYR': 4076, 'PAK': 341, 'AFG': 2136, 'IRQ': 1297}, 3: {'SYR': 1926, 'PAK': 161, 'AFG': 1009, 'IRQ': 613}, 4: {'SYR': 261, 'PAK': 22, 'AFG': 137, 'IRQ': 83}, 5: {'SYR': 123, 'PAK': 10, 'AFG': 64, 'IRQ': 39}, 6: {'SYR': 70, 'PAK': 6, 'AFG': 37, 'IRQ': 22}}, 2014: {1: {'SYR': 68, 'PAK': 6, 'AFG': 36, 'IRQ': 22}, 2: {'SYR': 71, 'PAK': 6, 'AFG': 37, 'IRQ': 23}, 3: {'SYR': 107, 'PAK': 9, 'AFG': 56, 'IRQ': 34}, 4: {'SYR': 90, 'PAK': 8, 'AFG': 47, 'IRQ': 29}, 5: {'SYR': 122, 'PAK': 10, 'AFG': 64, 'IRQ': 39}, 6: {'SYR': 228, 'PAK': 19, 'AFG': 120, 'IRQ': 73}, 7: {'SYR': 280, 'PAK': 23, 'AFG': 147, 'IRQ': 89}, 8: {'SYR': 482, 'PAK': 40, 'AFG': 252, 'IRQ': 153}, 9: {'SYR': 532, 'PAK': 44, 'AFG': 279, 'IRQ': 169}, 10: {'SYR': 531, 'PAK': 44, 'AFG': 278, 'IRQ': 169}, 11: {'SYR': 272, 'PAK': 23, 'AFG': 143, 'IRQ': 87}, 12: {'SYR': 147, 'PAK': 12, 'AFG': 77, 'IRQ': 47}}, 2015: {1: {'SYR': 121, 'PAK': 10, 'AFG': 63, 'IRQ': 39}, 2: {'SYR': 205, 'PAK': 17, 'AFG': 108, 'IRQ': 65}, 3: {'SYR': 562, 'PAK': 47, 'AFG': 295, 'IRQ': 179}, 4: {'SYR': 968, 'PAK': 81, 'AFG': 507, 'IRQ': 308}, 5: {'SYR': 1278, 'PAK': 107, 'AFG': 669, 'IRQ': 407}, 6: {'SYR': 2237, 'PAK': 187, 'AFG': 1172, 'IRQ': 712}, 7: {'SYR': 3921, 'PAK': 328, 'AFG': 2054, 'IRQ': 1248}, 8: {'SYR': 7702, 'PAK': 644, 'AFG': 4036, 'IRQ': 2451}, 9: {'SYR': 10507, 'PAK': 878, 'AFG': 5506, 'IRQ': 3344}, 10: {'SYR': 15117, 'PAK': 1263, 'AFG': 7921, 'IRQ': 4811}, 11: {'SYR': 10802, 'PAK': 903, 'AFG': 5660, 'IRQ': 3438}, 12: {'SYR': 7766, 'PAK': 649, 'AFG': 4069, 'IRQ': 2472}}}, 'ITA': {2016: {1: {'BEN': 3, 'MLI': 37, 'SOM': 48, 'GNB': 4, 'ARE': 25, 'TUN': 4, 'SLE': 3, 'SEN': 36, 'ETH': 14, 'PAK': 1, 'CMR': 11, 'GHA': 14}, 2: {'BEN': 2, 'MLI': 27, 'SOM': 35, 'GNB': 3, 'ARE': 18, 'TUN': 3, 'SLE': 2, 'SEN': 26, 'ETH': 10, 'PAK': 1, 'CMR': 8, 'GHA': 10}, 3: {'BEN': 5, 'MLI': 67, 'SOM': 89, 'GNB': 7, 'ARE': 47, 'TUN': 8, 'SLE': 6, 'SEN': 66, 'ETH': 26, 'PAK': 2, 'CMR': 20, 'GHA': 26}, 4: {'BEN': 4, 'MLI': 64, 'SOM': 84, 'GNB': 6, 'ARE': 44, 'TUN': 8, 'SLE': 5, 'SEN': 62, 'ETH': 25, 'PAK': 2, 'CMR': 19, 'GHA': 24}, 5: {'BEN': 10, 'MLI': 138, 'SOM': 182, 'GNB': 13, 'ARE': 96, 'TUN': 17, 'SLE': 11, 'SEN': 135, 'ETH': 53, 'PAK': 4, 'CMR': 41, 'GHA': 53}, 6: {'BEN': 2, 'MLI': 34, 'SOM': 44, 'GNB': 3, 'ARE': 23, 'TUN': 4, 'SLE': 3, 'SEN': 33, 'ETH': 13, 'PAK': 1, 'CMR': 10, 'GHA': 13}}, 2014: {1: {'BEN': 1, 'MLI': 15, 'SOM': 20, 'GNB': 1, 'ARE': 10, 'TUN': 2, 'SLE': 1, 'SEN': 15, 'ETH': 6, 'PAK': 0, 'CMR': 4, 'GHA': 6}, 2: {'BEN': 2, 'MLI': 23, 'SOM': 31, 'GNB': 2, 'ARE': 16, 'TUN': 3, 'SLE': 2, 'SEN': 23, 'ETH': 9, 'PAK': 1, 'CMR': 7, 'GHA': 9}, 3: {'BEN': 3, 'MLI': 38, 'SOM': 50, 'GNB': 4, 'ARE': 26, 'TUN': 5, 'SLE': 3, 'SEN': 37, 'ETH': 15, 'PAK': 1, 'CMR': 11, 'GHA': 14}, 4: {'BEN': 8, 'MLI': 109, 'SOM': 144, 'GNB': 11, 'ARE': 76, 'TUN': 13, 'SLE': 9, 'SEN': 107, 'ETH': 42, 'PAK': 3, 'CMR': 32, 'GHA': 41}, 5: {'BEN': 7, 'MLI': 101, 'SOM': 134, 'GNB': 10, 'ARE': 70, 'TUN': 12, 'SLE': 8, 'SEN': 99, 'ETH': 39, 'PAK': 3, 'CMR': 30, 'GHA': 39}, 6: {'BEN': 11, 'MLI': 157, 'SOM': 207, 'GNB': 15, 'ARE': 109, 'TUN': 19, 'SLE': 13, 'SEN': 154, 'ETH': 61, 'PAK': 5, 'CMR': 47, 'GHA': 60}, 7: {'BEN': 12, 'MLI': 167, 'SOM': 220, 'GNB': 16, 'ARE': 116, 'TUN': 20, 'SLE': 14, 'SEN': 164, 'ETH': 65, 'PAK': 5, 'CMR': 50, 'GHA': 63}, 8: {'BEN': 12, 'MLI': 172, 'SOM': 227, 'GNB': 17, 'ARE': 119, 'TUN': 21, 'SLE': 14, 'SEN': 169, 'ETH': 67, 'PAK': 5, 'CMR': 51, 'GHA': 65}, 9: {'BEN': 13, 'MLI': 181, 'SOM': 239, 'GNB': 18, 'ARE': 126, 'TUN': 22, 'SLE': 15, 'SEN': 178, 'ETH': 70, 'PAK': 5, 'CMR': 54, 'GHA': 69}, 10: {'BEN': 7, 'MLI': 106, 'SOM': 140, 'GNB': 10, 'ARE': 74, 'TUN': 13, 'SLE': 9, 'SEN': 104, 'ETH': 41, 'PAK': 3, 'CMR': 32, 'GHA': 40}, 11: {'BEN': 5, 'MLI': 65, 'SOM': 85, 'GNB': 6, 'ARE': 45, 'TUN': 8, 'SLE': 5, 'SEN': 63, 'ETH': 25, 'PAK': 2, 'CMR': 19, 'GHA': 25}, 12: {'BEN': 3, 'MLI': 47, 'SOM': 62, 'GNB': 5, 'ARE': 32, 'TUN': 6, 'SLE': 4, 'SEN': 46, 'ETH': 18, 'PAK': 1, 'CMR': 14, 'GHA': 18}}, 2015: {1: {'BEN': 2, 'MLI': 24, 'SOM': 32, 'GNB': 2, 'ARE': 17, 'TUN': 3, 'SLE': 2, 'SEN': 24, 'ETH': 9, 'PAK': 1, 'CMR': 7, 'GHA': 9}, 2: {'BEN': 2, 'MLI': 30, 'SOM': 40, 'GNB': 3, 'ARE': 21, 'TUN': 4, 'SLE': 3, 'SEN': 30, 'ETH': 12, 'PAK': 1, 'CMR': 9, 'GHA': 12}, 3: {'BEN': 1, 'MLI': 16, 'SOM': 21, 'GNB': 2, 'ARE': 11, 'TUN': 2, 'SLE': 1, 'SEN': 16, 'ETH': 6, 'PAK': 0, 'CMR': 5, 'GHA': 6}, 4: {'BEN': 8, 'MLI': 112, 'SOM': 147, 'GNB': 11, 'ARE': 77, 'TUN': 14, 'SLE': 9, 'SEN': 109, 'ETH': 43, 'PAK': 3, 'CMR': 33, 'GHA': 42}, 5: {'BEN': 10, 'MLI': 147, 'SOM': 195, 'GNB': 14, 'ARE': 102, 'TUN': 18, 'SLE': 12, 'SEN': 145, 'ETH': 57, 'PAK': 4, 'CMR': 44, 'GHA': 56}, 6: {'BEN': 11, 'MLI': 159, 'SOM': 210, 'GNB': 15, 'ARE': 110, 'TUN': 19, 'SLE': 13, 'SEN': 156, 'ETH': 62, 'PAK': 5, 'CMR': 47, 'GHA': 60}, 7: {'BEN': 11, 'MLI': 161, 'SOM': 212, 'GNB': 16, 'ARE': 112, 'TUN': 20, 'SLE': 13, 'SEN': 158, 'ETH': 62, 'PAK': 5, 'CMR': 48, 'GHA': 61}, 8: {'BEN': 11, 'MLI': 157, 'SOM': 207, 'GNB': 15, 'ARE': 109, 'TUN': 19, 'SLE': 13, 'SEN': 154, 'ETH': 61, 'PAK': 5, 'CMR': 47, 'GHA': 60}, 9: {'BEN': 8, 'MLI': 111, 'SOM': 146, 'GNB': 11, 'ARE': 77, 'TUN': 14, 'SLE': 9, 'SEN': 108, 'ETH': 43, 'PAK': 3, 'CMR': 33, 'GHA': 42}, 10: {'BEN': 4, 'MLI': 62, 'SOM': 82, 'GNB': 6, 'ARE': 43, 'TUN': 8, 'SLE': 5, 'SEN': 61, 'ETH': 24, 'PAK': 2, 'CMR': 18, 'GHA': 24}, 11: {'BEN': 2, 'MLI': 22, 'SOM': 29, 'GNB': 2, 'ARE': 16, 'TUN': 3, 'SLE': 2, 'SEN': 22, 'ETH': 9, 'PAK': 1, 'CMR': 7, 'GHA': 9}, 12: {'BEN': 5, 'MLI': 67, 'SOM': 88, 'GNB': 7, 'ARE': 46, 'TUN': 8, 'SLE': 6, 'SEN': 66, 'ETH': 26, 'PAK': 2, 'CMR': 20, 'GHA': 25}}}}\n"
     ]
    }
   ],
   "source": [
    "processed_data = {}\n",
    "with open('json_store/all_data.json') as data_file: \n",
    "    data = json.load(data_file)\n",
    "    proc_country_data = {}\n",
    "    for country_code in country_folders:\n",
    "        country_data = data[country_code]\n",
    "        origin_data = country_data[\"origins\"]\n",
    "        years_data = {}\n",
    "        for i in range(0, 3):\n",
    "            year = unicode(i + 2014)\n",
    "            year_data = {}\n",
    "            yearsum = 0;\n",
    "            for year_key, year_val in country_data[\"yearly\"].iteritems():\n",
    "                yearsum += year_val\n",
    "            months_data = {}\n",
    "            for month_key, month_val in sorted(country_data[\"monthly\"][year].iteritems()):\n",
    "                origin_data = {}\n",
    "                for origin, origin_val in country_data[\"origins\"].iteritems():\n",
    "                    origin_data[str(origin)] = immigrated_in_month_from(yearsum, origin_val, month_val)\n",
    "                months_data[int(month_key)] = origin_data\n",
    "            years_data[int(year)] = months_data\n",
    "        proc_country_data[country_code] = years_data\n",
    "processed_data = proc_country_data\n",
    "\n",
    "with open('json_store/deaths.json') as data_file:            \n",
    "    processed_data[\"deaths\"] = json.load(data_file)\n",
    "\n",
    "print processed_data\n",
    "\n",
    "with open('json_store/processed_data.json', 'w') as outfile:\n",
    "    json.dump(processed_data, outfile)"
   ]
  },
  {
   "cell_type": "code",
   "execution_count": null,
   "metadata": {
    "collapsed": true
   },
   "outputs": [],
   "source": []
  }
 ],
 "metadata": {
  "kernelspec": {
   "display_name": "Python 2",
   "language": "python",
   "name": "python2"
  },
  "language_info": {
   "codemirror_mode": {
    "name": "ipython",
    "version": 2
   },
   "file_extension": ".py",
   "mimetype": "text/x-python",
   "name": "python",
   "nbconvert_exporter": "python",
   "pygments_lexer": "ipython2",
   "version": "2.7.11"
  }
 },
 "nbformat": 4,
 "nbformat_minor": 0
}
