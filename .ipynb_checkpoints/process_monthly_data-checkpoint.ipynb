{
 "cells": [
  {
   "cell_type": "code",
   "execution_count": 3,
   "metadata": {
    "collapsed": false
   },
   "outputs": [
    {
     "name": "stdout",
     "output_type": "stream",
     "text": [
      "['ITA', 'SPA', 'MTA', 'GRE']\n"
     ]
    }
   ],
   "source": [
    "import json\n",
    "\n",
    "from os import listdir\n",
    "from os.path import isfile, join, isdir\n",
    "\n",
    "countries_root = 'json_store/by_country/'\n",
    "\n",
    "country_folders = [f for f in listdir(countries_root) if not isdir(f)]\n",
    "print country_folders\n",
    "\n",
    "#calculates amount of people who immigrated into a country from \n",
    "#a certain place within the month \n",
    "def immigrated_in_month_from(total_year, total_from_year, total_month):\n",
    "    percent_from = total_from_year/float(total_year)\n",
    "    return int(round(total_month*percent_from, 0))\n",
    "    \n",
    "\n",
    "\n",
    "# with open('json_store/monthly_by_country.json') as data_file:    \n",
    "#     monthly_data = json.load(data_file)"
   ]
  },
  {
   "cell_type": "code",
   "execution_count": 4,
   "metadata": {
    "collapsed": false
   },
   "outputs": [
    {
     "name": "stdout",
     "output_type": "stream",
     "text": [
      "{'SPA': {'yearly': {2016: 903, 2014: 4348, 2015: 4408}, 'monthly': {2016: {1: 447, 2: 180, 3: 276, 4: 0, 5: 0, 6: 0}, 2014: {1: 144, 2: 33, 3: 232, 4: 148, 5: 325, 6: 246, 7: 264, 8: 1705, 9: 380, 10: 341, 11: 211, 12: 319}, 2015: {1: 241, 2: 44, 3: 267, 4: 240, 5: 438, 6: 377, 7: 346, 8: 385, 9: 459, 10: 795, 11: 508, 12: 308}}, 'origins': {u'MOZ': 25, u'UGA': 4, u'MLI': 28, u'GNB': 20, u'SEN': 3, u'CMR': 135}}, 'MTA': {'yearly': {2016: 0, 2014: 568, 2015: 105}, 'monthly': {2016: {1: 0, 2: 0, 3: 0, 4: 0}, 2014: {1: 0, 2: 0, 3: 91, 4: 0, 5: 0, 6: 136, 7: 81, 8: 257, 9: 3, 10: 0, 11: 0, 12: 0}, 2015: {1: 87, 2: 0, 3: 0, 4: 5, 5: 0, 6: 2, 7: 2, 8: 2, 9: 7, 10: 0, 11: 0, 12: 0}}, 'origins': {}}, 'GRE': {'yearly': {2016: 156782, 2014: 41038, 2015: 856723}, 'monthly': {2016: {1: 67415, 2: 57066, 3: 26971, 4: 3650, 5: 1465, 6: 215}, 2014: {1: 955, 2: 1001, 3: 1501, 4: 1257, 5: 1703, 6: 3198, 7: 3927, 8: 6742, 9: 7454, 10: 7432, 11: 3812, 12: 2056}, 2015: {1: 1694, 2: 2873, 3: 7874, 4: 13556, 5: 17889, 6: 31318, 7: 54899, 8: 107843, 9: 147123, 10: 211663, 11: 151249, 12: 108742}}, 'origins': {u'SYR': 75388, u'PAK': 6299, u'AFG': 39502, u'IRQ': 23994}}, 'ITA': {'yearly': {2016: 48514, 2014: 170100, 2015: 153842}, 'monthly': {2016: {1: 5273, 2: 3828, 3: 9676, 4: 9149, 5: 19884, 6: 704}, 2014: {1: 2171, 2: 3335, 3: 5459, 4: 15679, 5: 14599, 6: 22641, 7: 24031, 8: 24774, 9: 26107, 10: 15277, 11: 9295, 12: 6732}, 2015: {1: 3528, 2: 4354, 3: 2283, 4: 16063, 5: 21235, 6: 22891, 7: 23186, 8: 22609, 9: 15922, 10: 8916, 11: 3218, 12: 9637}}, 'origins': {u'BEN': 120, u'MLI': 1914, u'SOM': 2529, u'GNB': 222, u'GHA': 741, u'TUN': 160, u'SEN': 1985, u'ETH': 690, u'PAK': 75, u'CMR': 558}}}\n"
     ]
    }
   ],
   "source": [
    "all_data = {}\n",
    "\n",
    "for country_folder in country_folders:\n",
    "    country_obj = {}\n",
    "    \n",
    "    with open('{0}{1}/monthly{1}.json'.format(countries_root, country_folder)) as data_file: \n",
    "        data_f = json.load(data_file)\n",
    "        prevYear = data_f[0][\"year\"]\n",
    "        all_months = {}\n",
    "        monthly = {}\n",
    "        yearly = {}\n",
    "        for data in data_f:\n",
    "            yearly[data[\"year\"]] = yearly.get(data[\"year\"], 0) + data[\"value\"]\n",
    "            if data[\"year\"] == prevYear:\n",
    "                all_months[data[\"month\"]] = data[\"value\"]\n",
    "            else:\n",
    "                monthly[prevYear] = all_months\n",
    "                all_months = {}\n",
    "                all_months[data[\"month\"]] = data[\"value\"]\n",
    "            prevYear = data[\"year\"]\n",
    "        monthly[prevYear] = all_months\n",
    "        all_months[data[\"month\"]] = data[\"value\"]\n",
    "        country_obj[\"yearly\"] = yearly\n",
    "        country_obj[\"monthly\"] = monthly\n",
    "        \n",
    "        \n",
    "        \n",
    "    origin_files = [f for f in listdir(countries_root+country_folder) if 'from' in f]\n",
    "    origins = {}\n",
    "    for origin_file in origin_files:\n",
    "        with open('{0}{1}/{2}'.format(countries_root, country_folder, origin_file)) as data_file:\n",
    "                data = json.load(data_file)[0]\n",
    "                origins[data[\"country_of_origin\"]] = data[\"value\"]\n",
    "    country_obj[\"origins\"] = origins\n",
    "    \n",
    "    \n",
    "    all_data[country_folder] = country_obj\n",
    "print all_data\n",
    "\n",
    "with open('json_store/all_data.json', 'w') as outfile:\n",
    "    json.dump(all_data, outfile)"
   ]
  },
  {
   "cell_type": "code",
   "execution_count": 5,
   "metadata": {
    "collapsed": false
   },
   "outputs": [
    {
     "name": "stdout",
     "output_type": "stream",
     "text": [
      "{'SPA': {2016: {1: {'MOZ': 1, 'UGA': 0, 'MLI': 1, 'GNB': 1, 'SEN': 0, 'CMR': 6}, 2: {'MOZ': 0, 'UGA': 0, 'MLI': 1, 'GNB': 0, 'SEN': 0, 'CMR': 3}, 3: {'MOZ': 1, 'UGA': 0, 'MLI': 1, 'GNB': 1, 'SEN': 0, 'CMR': 4}, 4: {'MOZ': 0, 'UGA': 0, 'MLI': 0, 'GNB': 0, 'SEN': 0, 'CMR': 0}, 5: {'MOZ': 0, 'UGA': 0, 'MLI': 0, 'GNB': 0, 'SEN': 0, 'CMR': 0}, 6: {'MOZ': 0, 'UGA': 0, 'MLI': 0, 'GNB': 0, 'SEN': 0, 'CMR': 0}}, 2014: {1: {'MOZ': 0, 'UGA': 0, 'MLI': 0, 'GNB': 0, 'SEN': 0, 'CMR': 2}, 2: {'MOZ': 0, 'UGA': 0, 'MLI': 0, 'GNB': 0, 'SEN': 0, 'CMR': 0}, 3: {'MOZ': 1, 'UGA': 0, 'MLI': 1, 'GNB': 0, 'SEN': 0, 'CMR': 3}, 4: {'MOZ': 0, 'UGA': 0, 'MLI': 0, 'GNB': 0, 'SEN': 0, 'CMR': 2}, 5: {'MOZ': 1, 'UGA': 0, 'MLI': 1, 'GNB': 1, 'SEN': 0, 'CMR': 5}, 6: {'MOZ': 1, 'UGA': 0, 'MLI': 1, 'GNB': 1, 'SEN': 0, 'CMR': 3}, 7: {'MOZ': 1, 'UGA': 0, 'MLI': 1, 'GNB': 1, 'SEN': 0, 'CMR': 4}, 8: {'MOZ': 4, 'UGA': 1, 'MLI': 5, 'GNB': 4, 'SEN': 1, 'CMR': 24}, 9: {'MOZ': 1, 'UGA': 0, 'MLI': 1, 'GNB': 1, 'SEN': 0, 'CMR': 5}, 10: {'MOZ': 1, 'UGA': 0, 'MLI': 1, 'GNB': 1, 'SEN': 0, 'CMR': 5}, 11: {'MOZ': 1, 'UGA': 0, 'MLI': 1, 'GNB': 0, 'SEN': 0, 'CMR': 3}, 12: {'MOZ': 1, 'UGA': 0, 'MLI': 1, 'GNB': 1, 'SEN': 0, 'CMR': 4}}, 2015: {1: {'MOZ': 1, 'UGA': 0, 'MLI': 1, 'GNB': 0, 'SEN': 0, 'CMR': 3}, 2: {'MOZ': 0, 'UGA': 0, 'MLI': 0, 'GNB': 0, 'SEN': 0, 'CMR': 1}, 3: {'MOZ': 1, 'UGA': 0, 'MLI': 1, 'GNB': 1, 'SEN': 0, 'CMR': 4}, 4: {'MOZ': 1, 'UGA': 0, 'MLI': 1, 'GNB': 0, 'SEN': 0, 'CMR': 3}, 5: {'MOZ': 1, 'UGA': 0, 'MLI': 1, 'GNB': 1, 'SEN': 0, 'CMR': 6}, 6: {'MOZ': 1, 'UGA': 0, 'MLI': 1, 'GNB': 1, 'SEN': 0, 'CMR': 5}, 7: {'MOZ': 1, 'UGA': 0, 'MLI': 1, 'GNB': 1, 'SEN': 0, 'CMR': 5}, 8: {'MOZ': 1, 'UGA': 0, 'MLI': 1, 'GNB': 1, 'SEN': 0, 'CMR': 5}, 9: {'MOZ': 1, 'UGA': 0, 'MLI': 1, 'GNB': 1, 'SEN': 0, 'CMR': 6}, 10: {'MOZ': 2, 'UGA': 0, 'MLI': 2, 'GNB': 2, 'SEN': 0, 'CMR': 11}, 11: {'MOZ': 1, 'UGA': 0, 'MLI': 1, 'GNB': 1, 'SEN': 0, 'CMR': 7}, 12: {'MOZ': 1, 'UGA': 0, 'MLI': 1, 'GNB': 1, 'SEN': 0, 'CMR': 4}}}, 'MTA': {2016: {1: {}, 2: {}, 3: {}, 4: {}}, 2014: {1: {}, 2: {}, 3: {}, 4: {}, 5: {}, 6: {}, 7: {}, 8: {}, 9: {}, 10: {}, 11: {}, 12: {}}, 2015: {1: {}, 2: {}, 3: {}, 4: {}, 5: {}, 6: {}, 7: {}, 8: {}, 9: {}, 10: {}, 11: {}, 12: {}}}, 'GRE': {2016: {1: {'SYR': 4819, 'PAK': 403, 'AFG': 2525, 'IRQ': 1534}, 2: {'SYR': 4080, 'PAK': 341, 'AFG': 2138, 'IRQ': 1298}, 3: {'SYR': 1928, 'PAK': 161, 'AFG': 1010, 'IRQ': 614}, 4: {'SYR': 261, 'PAK': 22, 'AFG': 137, 'IRQ': 83}, 5: {'SYR': 105, 'PAK': 9, 'AFG': 55, 'IRQ': 33}, 6: {'SYR': 15, 'PAK': 1, 'AFG': 8, 'IRQ': 5}}, 2014: {1: {'SYR': 68, 'PAK': 6, 'AFG': 36, 'IRQ': 22}, 2: {'SYR': 72, 'PAK': 6, 'AFG': 37, 'IRQ': 23}, 3: {'SYR': 107, 'PAK': 9, 'AFG': 56, 'IRQ': 34}, 4: {'SYR': 90, 'PAK': 8, 'AFG': 47, 'IRQ': 29}, 5: {'SYR': 122, 'PAK': 10, 'AFG': 64, 'IRQ': 39}, 6: {'SYR': 229, 'PAK': 19, 'AFG': 120, 'IRQ': 73}, 7: {'SYR': 281, 'PAK': 23, 'AFG': 147, 'IRQ': 89}, 8: {'SYR': 482, 'PAK': 40, 'AFG': 253, 'IRQ': 153}, 9: {'SYR': 533, 'PAK': 45, 'AFG': 279, 'IRQ': 170}, 10: {'SYR': 531, 'PAK': 44, 'AFG': 278, 'IRQ': 169}, 11: {'SYR': 273, 'PAK': 23, 'AFG': 143, 'IRQ': 87}, 12: {'SYR': 147, 'PAK': 12, 'AFG': 77, 'IRQ': 47}}, 2015: {1: {'SYR': 121, 'PAK': 10, 'AFG': 63, 'IRQ': 39}, 2: {'SYR': 205, 'PAK': 17, 'AFG': 108, 'IRQ': 65}, 3: {'SYR': 563, 'PAK': 47, 'AFG': 295, 'IRQ': 179}, 4: {'SYR': 969, 'PAK': 81, 'AFG': 508, 'IRQ': 308}, 5: {'SYR': 1279, 'PAK': 107, 'AFG': 670, 'IRQ': 407}, 6: {'SYR': 2239, 'PAK': 187, 'AFG': 1173, 'IRQ': 713}, 7: {'SYR': 3925, 'PAK': 328, 'AFG': 2056, 'IRQ': 1249}, 8: {'SYR': 7710, 'PAK': 644, 'AFG': 4040, 'IRQ': 2454}, 9: {'SYR': 10518, 'PAK': 879, 'AFG': 5511, 'IRQ': 3347}, 10: {'SYR': 15132, 'PAK': 1264, 'AFG': 7929, 'IRQ': 4816}, 11: {'SYR': 10813, 'PAK': 903, 'AFG': 5666, 'IRQ': 3441}, 12: {'SYR': 7774, 'PAK': 650, 'AFG': 4073, 'IRQ': 2474}}}, 'ITA': {2016: {1: {'BEN': 2, 'MLI': 27, 'SOM': 36, 'GNB': 3, 'GHA': 10, 'TUN': 2, 'SEN': 28, 'ETH': 10, 'PAK': 1, 'CMR': 8}, 2: {'BEN': 1, 'MLI': 20, 'SOM': 26, 'GNB': 2, 'GHA': 8, 'TUN': 2, 'SEN': 20, 'ETH': 7, 'PAK': 1, 'CMR': 6}, 3: {'BEN': 3, 'MLI': 50, 'SOM': 66, 'GNB': 6, 'GHA': 19, 'TUN': 4, 'SEN': 52, 'ETH': 18, 'PAK': 2, 'CMR': 14}, 4: {'BEN': 3, 'MLI': 47, 'SOM': 62, 'GNB': 5, 'GHA': 18, 'TUN': 4, 'SEN': 49, 'ETH': 17, 'PAK': 2, 'CMR': 14}, 5: {'BEN': 6, 'MLI': 102, 'SOM': 135, 'GNB': 12, 'GHA': 40, 'TUN': 9, 'SEN': 106, 'ETH': 37, 'PAK': 4, 'CMR': 30}, 6: {'BEN': 0, 'MLI': 4, 'SOM': 5, 'GNB': 0, 'GHA': 1, 'TUN': 0, 'SEN': 4, 'ETH': 1, 'PAK': 0, 'CMR': 1}}, 2014: {1: {'BEN': 1, 'MLI': 11, 'SOM': 15, 'GNB': 1, 'GHA': 4, 'TUN': 1, 'SEN': 12, 'ETH': 4, 'PAK': 0, 'CMR': 3}, 2: {'BEN': 1, 'MLI': 17, 'SOM': 23, 'GNB': 2, 'GHA': 7, 'TUN': 1, 'SEN': 18, 'ETH': 6, 'PAK': 1, 'CMR': 5}, 3: {'BEN': 2, 'MLI': 28, 'SOM': 37, 'GNB': 3, 'GHA': 11, 'TUN': 2, 'SEN': 29, 'ETH': 10, 'PAK': 1, 'CMR': 8}, 4: {'BEN': 5, 'MLI': 81, 'SOM': 106, 'GNB': 9, 'GHA': 31, 'TUN': 7, 'SEN': 84, 'ETH': 29, 'PAK': 3, 'CMR': 23}, 5: {'BEN': 5, 'MLI': 75, 'SOM': 99, 'GNB': 9, 'GHA': 29, 'TUN': 6, 'SEN': 78, 'ETH': 27, 'PAK': 3, 'CMR': 22}, 6: {'BEN': 7, 'MLI': 116, 'SOM': 154, 'GNB': 13, 'GHA': 45, 'TUN': 10, 'SEN': 121, 'ETH': 42, 'PAK': 5, 'CMR': 34}, 7: {'BEN': 8, 'MLI': 123, 'SOM': 163, 'GNB': 14, 'GHA': 48, 'TUN': 10, 'SEN': 128, 'ETH': 45, 'PAK': 5, 'CMR': 36}, 8: {'BEN': 8, 'MLI': 127, 'SOM': 168, 'GNB': 15, 'GHA': 49, 'TUN': 11, 'SEN': 132, 'ETH': 46, 'PAK': 5, 'CMR': 37}, 9: {'BEN': 8, 'MLI': 134, 'SOM': 177, 'GNB': 16, 'GHA': 52, 'TUN': 11, 'SEN': 139, 'ETH': 48, 'PAK': 5, 'CMR': 39}, 10: {'BEN': 5, 'MLI': 79, 'SOM': 104, 'GNB': 9, 'GHA': 30, 'TUN': 7, 'SEN': 81, 'ETH': 28, 'PAK': 3, 'CMR': 23}, 11: {'BEN': 3, 'MLI': 48, 'SOM': 63, 'GNB': 6, 'GHA': 18, 'TUN': 4, 'SEN': 50, 'ETH': 17, 'PAK': 2, 'CMR': 14}, 12: {'BEN': 2, 'MLI': 35, 'SOM': 46, 'GNB': 4, 'GHA': 13, 'TUN': 3, 'SEN': 36, 'ETH': 12, 'PAK': 1, 'CMR': 10}}, 2015: {1: {'BEN': 1, 'MLI': 18, 'SOM': 24, 'GNB': 2, 'GHA': 7, 'TUN': 2, 'SEN': 19, 'ETH': 7, 'PAK': 1, 'CMR': 5}, 2: {'BEN': 1, 'MLI': 22, 'SOM': 30, 'GNB': 3, 'GHA': 9, 'TUN': 2, 'SEN': 23, 'ETH': 8, 'PAK': 1, 'CMR': 7}, 3: {'BEN': 1, 'MLI': 12, 'SOM': 16, 'GNB': 1, 'GHA': 5, 'TUN': 1, 'SEN': 12, 'ETH': 4, 'PAK': 0, 'CMR': 3}, 4: {'BEN': 5, 'MLI': 83, 'SOM': 109, 'GNB': 10, 'GHA': 32, 'TUN': 7, 'SEN': 86, 'ETH': 30, 'PAK': 3, 'CMR': 24}, 5: {'BEN': 7, 'MLI': 109, 'SOM': 144, 'GNB': 13, 'GHA': 42, 'TUN': 9, 'SEN': 113, 'ETH': 39, 'PAK': 4, 'CMR': 32}, 6: {'BEN': 7, 'MLI': 118, 'SOM': 155, 'GNB': 14, 'GHA': 46, 'TUN': 10, 'SEN': 122, 'ETH': 42, 'PAK': 5, 'CMR': 34}, 7: {'BEN': 7, 'MLI': 119, 'SOM': 157, 'GNB': 14, 'GHA': 46, 'TUN': 10, 'SEN': 124, 'ETH': 43, 'PAK': 5, 'CMR': 35}, 8: {'BEN': 7, 'MLI': 116, 'SOM': 154, 'GNB': 13, 'GHA': 45, 'TUN': 10, 'SEN': 120, 'ETH': 42, 'PAK': 5, 'CMR': 34}, 9: {'BEN': 5, 'MLI': 82, 'SOM': 108, 'GNB': 9, 'GHA': 32, 'TUN': 7, 'SEN': 85, 'ETH': 29, 'PAK': 3, 'CMR': 24}, 10: {'BEN': 3, 'MLI': 46, 'SOM': 61, 'GNB': 5, 'GHA': 18, 'TUN': 4, 'SEN': 48, 'ETH': 17, 'PAK': 2, 'CMR': 13}, 11: {'BEN': 1, 'MLI': 17, 'SOM': 22, 'GNB': 2, 'GHA': 6, 'TUN': 1, 'SEN': 17, 'ETH': 6, 'PAK': 1, 'CMR': 5}, 12: {'BEN': 3, 'MLI': 50, 'SOM': 65, 'GNB': 6, 'GHA': 19, 'TUN': 4, 'SEN': 51, 'ETH': 18, 'PAK': 2, 'CMR': 14}}}}\n"
     ]
    }
   ],
   "source": [
    "processed_data = {}\n",
    "with open('json_store/all_data.json') as data_file: \n",
    "    data = json.load(data_file)\n",
    "    proc_country_data = {}\n",
    "    for country_code in country_folders:\n",
    "        country_data = data[country_code]\n",
    "        origin_data = country_data[\"origins\"]\n",
    "        years_data = {}\n",
    "        for i in range(0, 3):\n",
    "            year = unicode(i + 2014)\n",
    "            year_data = {}\n",
    "            yearsum = 0;\n",
    "            for year_key, year_val in country_data[\"yearly\"].iteritems():\n",
    "                yearsum += year_val\n",
    "            months_data = {}\n",
    "            for month_key, month_val in sorted(country_data[\"monthly\"][year].iteritems()):\n",
    "                origin_data = {}\n",
    "                for origin, origin_val in country_data[\"origins\"].iteritems():\n",
    "                    origin_data[str(origin)] = immigrated_in_month_from(yearsum, origin_val, month_val)\n",
    "                months_data[int(month_key)] = origin_data\n",
    "            years_data[int(year)] = months_data\n",
    "        proc_country_data[country_code] = years_data\n",
    "processed_data = proc_country_data\n",
    "print processed_data\n",
    "\n",
    "with open('json_store/processed_data.json', 'w') as outfile:\n",
    "    json.dump(processed_data, outfile)"
   ]
  },
  {
   "cell_type": "code",
   "execution_count": null,
   "metadata": {
    "collapsed": true
   },
   "outputs": [],
   "source": []
  }
 ],
 "metadata": {
  "kernelspec": {
   "display_name": "Python 2",
   "language": "python",
   "name": "python2"
  },
  "language_info": {
   "codemirror_mode": {
    "name": "ipython",
    "version": 2
   },
   "file_extension": ".py",
   "mimetype": "text/x-python",
   "name": "python",
   "nbconvert_exporter": "python",
   "pygments_lexer": "ipython2",
   "version": "2.7.11"
  }
 },
 "nbformat": 4,
 "nbformat_minor": 0
}
