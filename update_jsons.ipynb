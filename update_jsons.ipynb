{
 "cells": [
  {
   "cell_type": "code",
   "execution_count": 1,
   "metadata": {
    "collapsed": true
   },
   "outputs": [],
   "source": [
    "import json, requests\n",
    "\n",
    "with open('json_store/mediterranean_countries.json') as data_file:    \n",
    "    asylum_countries = json.load(data_file)\n",
    "\n",
    "with open('json_store/origin_countries.json') as data_file:\n",
    "    origin_countries = json.load(data_file)"
   ]
  },
  {
   "cell_type": "code",
   "execution_count": 2,
   "metadata": {
    "collapsed": false,
    "scrolled": true
   },
   "outputs": [
    {
     "name": "stdout",
     "output_type": "stream",
     "text": [
      "--2016-06-06 16:15:28--  http://data.unhcr.org/api/stats/mediterranean/countries.json\n",
      "Resolving data.unhcr.org (data.unhcr.org)... 193.134.241.83\n",
      "Connecting to data.unhcr.org (data.unhcr.org)|193.134.241.83|:80... connected.\n",
      "HTTP request sent, awaiting response... 200 OK\n",
      "Length: 238 [application/json]\n",
      "Saving to: 'json_store/mediterranean_countries.json'\n",
      "\n",
      "json_store/mediterr 100%[===================>]     238  --.-KB/s    in 0s      \n",
      "\n",
      "2016-06-06 16:15:28 (21.6 MB/s) - 'json_store/mediterranean_countries.json' saved [238/238]\n",
      "\n",
      "--2016-06-06 16:15:29--  http://data.unhcr.org/api/stats/origin.json\n",
      "Resolving data.unhcr.org (data.unhcr.org)... 193.134.241.83\n",
      "Connecting to data.unhcr.org (data.unhcr.org)|193.134.241.83|:80... connected.\n",
      "HTTP request sent, awaiting response... 200 OK\n",
      "Length: 9151 (8.9K) [application/json]\n",
      "Saving to: 'json_store/origin_countries.json'\n",
      "\n",
      "json_store/origin_c 100%[===================>]   8.94K  --.-KB/s    in 0s      \n",
      "\n",
      "2016-06-06 16:15:29 (126 MB/s) - 'json_store/origin_countries.json' saved [9151/9151]\n",
      "\n"
     ]
    }
   ],
   "source": [
    "command = 'wget http://data.unhcr.org/api/stats/mediterranean/countries.json -O json_store/mediterranean_countries.json'\n",
    "!$command\n",
    "\n",
    "command = 'wget http://data.unhcr.org/api/stats/origin.json -O json_store/origin_countries.json'\n",
    "!$command"
   ]
  },
  {
   "cell_type": "code",
   "execution_count": 4,
   "metadata": {
    "collapsed": false
   },
   "outputs": [
    {
     "name": "stdout",
     "output_type": "stream",
     "text": [
      "--2016-06-06 21:43:49--  http://data.unhcr.org/api/stats/mediterranean/monthly_arrivals_by_country.json?country=GRE\n",
      "Resolving data.unhcr.org (data.unhcr.org)... 193.134.241.83\n",
      "Connecting to data.unhcr.org (data.unhcr.org)|193.134.241.83|:80... connected.\n",
      "HTTP request sent, awaiting response... 200 OK\n",
      "Length: 5872 (5.7K) [application/json]\n",
      "Saving to: 'json_store/by_country/GRE/monthlyGRE.json'\n",
      "\n",
      "json_store/by_count 100%[===================>]   5.73K  --.-KB/s    in 0s      \n",
      "\n",
      "2016-06-06 21:43:49 (291 MB/s) - 'json_store/by_country/GRE/monthlyGRE.json' saved [5872/5872]\n",
      "\n",
      "--2016-06-06 21:43:49--  http://data.unhcr.org/api/stats/mediterranean/monthly_arrivals_by_location.json?country=GRE\n",
      "Resolving data.unhcr.org (data.unhcr.org)... 193.134.241.83\n",
      "Connecting to data.unhcr.org (data.unhcr.org)|193.134.241.83|:80... connected.\n",
      "HTTP request sent, awaiting response... 200 OK\n",
      "Length: 73367 (72K) [application/json]\n",
      "Saving to: 'json_store/by_country/GRE/monthly_locGRE.json'\n",
      "\n",
      "json_store/by_count 100%[===================>]  71.65K   206KB/s    in 0.3s    \n",
      "\n",
      "2016-06-06 21:43:50 (206 KB/s) - 'json_store/by_country/GRE/monthly_locGRE.json' saved [73367/73367]\n",
      "\n",
      "[{u'country_of_origin': u'AFG', u'last_updated': 1461967200, u'value': 39502, u'country_of_asylum': u'GRE', u'country_of_asylum_en': u'Greece', u'country_of_origin_en': u'Afghanistan'}]\n",
      "[{u'country_of_origin': u'IRQ', u'last_updated': 1461967200, u'value': 23994, u'country_of_asylum': u'GRE', u'country_of_asylum_en': u'Greece', u'country_of_origin_en': u'Iraq'}]\n",
      "[{u'country_of_origin': u'PAK', u'last_updated': 1461967200, u'value': 6299, u'country_of_asylum': u'GRE', u'country_of_asylum_en': u'Greece', u'country_of_origin_en': u'Pakistan'}]\n",
      "[{u'country_of_origin': u'SYR', u'last_updated': 1461967200, u'value': 75388, u'country_of_asylum': u'GRE', u'country_of_asylum_en': u'Greece', u'country_of_origin_en': u'Syrian Arab Rep.'}]\n",
      "--2016-06-06 21:44:44--  http://data.unhcr.org/api/stats/mediterranean/monthly_arrivals_by_country.json?country=ITA\n",
      "Resolving data.unhcr.org (data.unhcr.org)... 193.134.241.83\n",
      "Connecting to data.unhcr.org (data.unhcr.org)|193.134.241.83|:80... connected.\n",
      "HTTP request sent, awaiting response... 200 OK\n",
      "Length: 5780 (5.6K) [application/json]\n",
      "Saving to: 'json_store/by_country/ITA/monthlyITA.json'\n",
      "\n",
      "json_store/by_count 100%[===================>]   5.64K  --.-KB/s    in 0s      \n",
      "\n",
      "2016-06-06 21:44:44 (420 MB/s) - 'json_store/by_country/ITA/monthlyITA.json' saved [5780/5780]\n",
      "\n",
      "--2016-06-06 21:44:45--  http://data.unhcr.org/api/stats/mediterranean/monthly_arrivals_by_location.json?country=ITA\n",
      "Resolving data.unhcr.org (data.unhcr.org)... 193.134.241.83\n",
      "Connecting to data.unhcr.org (data.unhcr.org)|193.134.241.83|:80... connected.\n",
      "HTTP request sent, awaiting response... 200 OK\n",
      "Length: 35974 (35K) [application/json]\n",
      "Saving to: 'json_store/by_country/ITA/monthly_locITA.json'\n",
      "\n",
      "json_store/by_count 100%[===================>]  35.13K   153KB/s    in 0.2s    \n",
      "\n",
      "2016-06-06 21:44:45 (153 KB/s) - 'json_store/by_country/ITA/monthly_locITA.json' saved [35974/35974]\n",
      "\n",
      "[{u'country_of_origin': u'BEN', u'last_updated': 1459375200, u'value': 120, u'country_of_asylum': u'ITA', u'country_of_asylum_en': u'Italy', u'country_of_origin_en': u'Benin'}]\n",
      "[{u'country_of_origin': u'CMR', u'last_updated': 1459375200, u'value': 558, u'country_of_asylum': u'ITA', u'country_of_asylum_en': u'Italy', u'country_of_origin_en': u'Cameroon'}]\n",
      "[{u'country_of_origin': u'ETH', u'last_updated': 1459375200, u'value': 690, u'country_of_asylum': u'ITA', u'country_of_asylum_en': u'Italy', u'country_of_origin_en': u'Ethiopia'}]\n",
      "[{u'country_of_origin': u'GHA', u'last_updated': 1459375200, u'value': 741, u'country_of_asylum': u'ITA', u'country_of_asylum_en': u'Italy', u'country_of_origin_en': u'Ghana'}]\n",
      "[{u'country_of_origin': u'GNB', u'last_updated': 1459375200, u'value': 222, u'country_of_asylum': u'ITA', u'country_of_asylum_en': u'Italy', u'country_of_origin_en': u'Guinea-Bissau'}]\n",
      "[{u'country_of_origin': u'MLI', u'last_updated': 1459375200, u'value': 1914, u'country_of_asylum': u'ITA', u'country_of_asylum_en': u'Italy', u'country_of_origin_en': u'Mali'}]\n",
      "[{u'country_of_origin': u'PAK', u'last_updated': 1459375200, u'value': 75, u'country_of_asylum': u'ITA', u'country_of_asylum_en': u'Italy', u'country_of_origin_en': u'Pakistan'}]\n",
      "[{u'country_of_origin': u'SEN', u'last_updated': 1459375200, u'value': 1985, u'country_of_asylum': u'ITA', u'country_of_asylum_en': u'Italy', u'country_of_origin_en': u'Senegal'}]\n",
      "[{u'country_of_origin': u'SOM', u'last_updated': 1459375200, u'value': 2529, u'country_of_asylum': u'ITA', u'country_of_asylum_en': u'Italy', u'country_of_origin_en': u'Somalia'}]\n",
      "[{u'country_of_origin': u'TUN', u'last_updated': 1459375200, u'value': 160, u'country_of_asylum': u'ITA', u'country_of_asylum_en': u'Italy', u'country_of_origin_en': u'Tunisia'}]\n",
      "--2016-06-06 21:45:40--  http://data.unhcr.org/api/stats/mediterranean/monthly_arrivals_by_country.json?country=MTA\n",
      "Resolving data.unhcr.org (data.unhcr.org)... 193.134.241.83\n",
      "Connecting to data.unhcr.org (data.unhcr.org)|193.134.241.83|:80... connected.\n",
      "HTTP request sent, awaiting response... 200 OK\n",
      "Length: 5255 (5.1K) [application/json]\n",
      "Saving to: 'json_store/by_country/MTA/monthlyMTA.json'\n",
      "\n",
      "json_store/by_count 100%[===================>]   5.13K  --.-KB/s    in 0s      \n",
      "\n",
      "2016-06-06 21:45:40 (406 MB/s) - 'json_store/by_country/MTA/monthlyMTA.json' saved [5255/5255]\n",
      "\n",
      "--2016-06-06 21:45:40--  http://data.unhcr.org/api/stats/mediterranean/monthly_arrivals_by_location.json?country=MTA\n",
      "Resolving data.unhcr.org (data.unhcr.org)... 193.134.241.83\n",
      "Connecting to data.unhcr.org (data.unhcr.org)|193.134.241.83|:80... connected.\n",
      "HTTP request sent, awaiting response... 200 OK\n",
      "Length: 2 [application/json]\n",
      "Saving to: 'json_store/by_country/MTA/monthly_locMTA.json'\n",
      "\n",
      "json_store/by_count 100%[===================>]       2  --.-KB/s    in 0s      \n",
      "\n",
      "2016-06-06 21:45:41 (189 KB/s) - 'json_store/by_country/MTA/monthly_locMTA.json' saved [2/2]\n",
      "\n",
      "--2016-06-06 21:46:35--  http://data.unhcr.org/api/stats/mediterranean/monthly_arrivals_by_country.json?country=SPA\n",
      "Resolving data.unhcr.org (data.unhcr.org)... 193.134.241.83\n",
      "Connecting to data.unhcr.org (data.unhcr.org)|193.134.241.83|:80... connected.\n",
      "HTTP request sent, awaiting response... 200 OK\n",
      "Length: 5820 (5.7K) [application/json]\n",
      "Saving to: 'json_store/by_country/SPA/monthlySPA.json'\n",
      "\n",
      "json_store/by_count 100%[===================>]   5.68K  --.-KB/s    in 0s      \n",
      "\n",
      "2016-06-06 21:46:35 (594 MB/s) - 'json_store/by_country/SPA/monthlySPA.json' saved [5820/5820]\n",
      "\n",
      "--2016-06-06 21:46:36--  http://data.unhcr.org/api/stats/mediterranean/monthly_arrivals_by_location.json?country=SPA\n",
      "Resolving data.unhcr.org (data.unhcr.org)... 193.134.241.83\n",
      "Connecting to data.unhcr.org (data.unhcr.org)|193.134.241.83|:80... connected.\n",
      "HTTP request sent, awaiting response... 200 OK\n",
      "Length: 24216 (24K) [application/json]\n",
      "Saving to: 'json_store/by_country/SPA/monthly_locSPA.json'\n",
      "\n",
      "json_store/by_count 100%[===================>]  23.65K  --.-KB/s    in 0.1s    \n",
      "\n",
      "2016-06-06 21:46:36 (201 KB/s) - 'json_store/by_country/SPA/monthly_locSPA.json' saved [24216/24216]\n",
      "\n",
      "[{u'country_of_origin': u'CMR', u'last_updated': 1459375200, u'value': 135, u'country_of_asylum': u'SPA', u'country_of_asylum_en': u'Spain', u'country_of_origin_en': u'Cameroon'}]\n",
      "[{u'country_of_origin': u'GNB', u'last_updated': 1459375200, u'value': 20, u'country_of_asylum': u'SPA', u'country_of_asylum_en': u'Spain', u'country_of_origin_en': u'Guinea-Bissau'}]\n",
      "[{u'country_of_origin': u'MLI', u'last_updated': 1459375200, u'value': 28, u'country_of_asylum': u'SPA', u'country_of_asylum_en': u'Spain', u'country_of_origin_en': u'Mali'}]\n",
      "[{u'country_of_origin': u'MOZ', u'last_updated': 1459375200, u'value': 25, u'country_of_asylum': u'SPA', u'country_of_asylum_en': u'Spain', u'country_of_origin_en': u'Mozambique'}]\n",
      "[{u'country_of_origin': u'SEN', u'last_updated': 1459375200, u'value': 3, u'country_of_asylum': u'SPA', u'country_of_asylum_en': u'Spain', u'country_of_origin_en': u'Senegal'}]\n",
      "[{u'country_of_origin': u'UGA', u'last_updated': 1459375200, u'value': 4, u'country_of_asylum': u'SPA', u'country_of_asylum_en': u'Spain', u'country_of_origin_en': u'Uganda'}]\n"
     ]
    }
   ],
   "source": [
    "for asyl_country in asylum_countries:\n",
    "    asylum_str = asyl_country[\"country_of_asylum\"]\n",
    "    command = 'wget http://data.unhcr.org/api/stats/mediterranean/monthly_arrivals_by_country.json?country={0} -O json_store/by_country/{0}/monthly{0}.json'.format(asylum_str)\n",
    "    !$command\n",
    "    command = 'wget http://data.unhcr.org/api/stats/mediterranean/monthly_arrivals_by_location.json?country={0} -O json_store/by_country/{0}/monthly_loc{0}.json'.format(asylum_str)\n",
    "    !$command\n",
    "    for origin_country in origin_countries:\n",
    "        origin_str = origin_country[\"origin\"]\n",
    "        result = requests.get(\"http://data.unhcr.org/api/stats/mediterranean/origin.json\", \n",
    "              params={'country_of_asylum': asylum_str, 'country_of_origin': origin_str}).json()\n",
    "        if result:\n",
    "            print result\n",
    "            with open('json_store/by_country/{0}/from{1}.json'.format(asylum_str, origin_str), 'w') as outfile:\n",
    "                json.dump(result, outfile)"
   ]
  },
  {
   "cell_type": "code",
   "execution_count": null,
   "metadata": {
    "collapsed": true
   },
   "outputs": [],
   "source": []
  }
 ],
 "metadata": {
  "kernelspec": {
   "display_name": "Python 2",
   "language": "python",
   "name": "python2"
  },
  "language_info": {
   "codemirror_mode": {
    "name": "ipython",
    "version": 2
   },
   "file_extension": ".py",
   "mimetype": "text/x-python",
   "name": "python",
   "nbconvert_exporter": "python",
   "pygments_lexer": "ipython2",
   "version": "2.7.11"
  }
 },
 "nbformat": 4,
 "nbformat_minor": 0
}
