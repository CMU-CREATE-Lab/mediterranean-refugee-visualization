{
 "cells": [
  {
   "cell_type": "code",
   "execution_count": 43,
   "metadata": {
    "collapsed": false
   },
   "outputs": [
    {
     "name": "stdout",
     "output_type": "stream",
     "text": [
      "['Greece', 'Spain', 'Italy']\n"
     ]
    }
   ],
   "source": [
    "import json\n",
    "\n",
    "from os import listdir\n",
    "from os.path import isfile, join, isdir\n",
    "\n",
    "countries_root = 'json_store/by_country/'\n",
    "\n",
    "country_folders = [f for f in listdir(countries_root) if not isdir(f)]\n",
    "print country_folders\n",
    "\n",
    "#calculates amount of people who immigrated into a country from \n",
    "#a certain place within the month \n",
    "def immigrated_in_month_from(total_year, total_from_year, total_month):\n",
    "    percent_from = total_from_year/float(total_year)\n",
    "    return int(round(total_month*percent_from, 0))\n",
    "    \n",
    "\n",
    "\n",
    "# with open('json_store/monthly_by_country.json') as data_file:    \n",
    "#     monthly_data = json.load(data_file)"
   ]
  },
  {
   "cell_type": "code",
   "execution_count": 58,
   "metadata": {
    "collapsed": false,
    "scrolled": true
   },
   "outputs": [
    {
     "name": "stdout",
     "output_type": "stream",
     "text": [
      "Greece\n",
      "Spain\n",
      "Italy\n",
      "{'Italy': {'yearly': {2016: 56227, 2014: 170100, 2015: 153842}, 'monthly': {2016: {1: 5273, 2: 3828, 3: 9676, 4: 9149, 5: 19925, 6: 8376}, 2014: {1: 2171, 2: 3335, 3: 5459, 4: 15679, 5: 14599, 6: 22641, 7: 24031, 8: 24774, 9: 26107, 10: 15277, 11: 9295, 12: 6732}, 2015: {1: 3528, 2: 4354, 3: 2283, 4: 16063, 5: 21235, 6: 22891, 7: 23186, 8: 22609, 9: 15922, 10: 8916, 11: 3218, 12: 9637}}, 'origins': {u'Ghana': 995, u'Ethiopia': 1012, u'Egypt': 1815, u'Tunisia': 320, u'Senegal': 2565, u'Somalia': 3450, u'Guinea-Bissau': 254, u'Mali': 2614, u'Cameroon': 777, u'Sierra Leone': 217, u'Benin': 183}}, 'Spain': {'yearly': {2016: 1352, 2014: 4348, 2015: 4408}, 'monthly': {2016: {1: 447, 2: 180, 3: 276, 4: 449, 5: 0, 6: 0}, 2014: {1: 144, 2: 33, 3: 232, 4: 148, 5: 325, 6: 246, 7: 264, 8: 1705, 9: 380, 10: 341, 11: 211, 12: 319}, 2015: {1: 241, 2: 44, 3: 267, 4: 240, 5: 438, 6: 377, 7: 346, 8: 385, 9: 459, 10: 795, 11: 508, 12: 308}}, 'origins': {u'Kenya': 4, u'Cameroon': 191, u'Uganda': 5, u'Guinea-Bissau': 26, u'Mali': 31}}, 'Greece': {'yearly': {2016: 157801, 2014: 41038, 2015: 856723}, 'monthly': {2016: {1: 67415, 2: 57066, 3: 26971, 4: 3650, 5: 1721, 6: 978}, 2014: {1: 955, 2: 1001, 3: 1501, 4: 1257, 5: 1703, 6: 3198, 7: 3927, 8: 6742, 9: 7454, 10: 7432, 11: 3812, 12: 2056}, 2015: {1: 1694, 2: 2873, 3: 7874, 4: 13556, 5: 17889, 6: 31318, 7: 54899, 8: 107843, 9: 147123, 10: 211663, 11: 151249, 12: 108742}}, 'origins': {u'Afghanistan': 39502, u'Syrian Arab Rep.': 75388, u'Iraq': 23994, u'Pakistan': 6299}}}\n"
     ]
    }
   ],
   "source": [
    "all_data = {}\n",
    "\n",
    "for country_folder in country_folders:\n",
    "    country_obj = {}\n",
    "    print country_folder\n",
    "    with open('{0}{1}/monthly{1}.json'.format(countries_root, country_folder)) as data_file: \n",
    "        data_f = json.load(data_file)\n",
    "        prevYear = data_f[0][\"year\"] \n",
    "        all_months = {}\n",
    "        monthly = {}\n",
    "        yearly = {}\n",
    "        for data in data_f:\n",
    "            yearly[data[\"year\"]] = yearly.get(data[\"year\"], 0) + data[\"value\"]\n",
    "            if data[\"year\"] == prevYear:\n",
    "                all_months[data[\"month\"]] = data[\"value\"]\n",
    "            else:\n",
    "                monthly[prevYear] = all_months\n",
    "                all_months = {}\n",
    "                all_months[data[\"month\"]] = data[\"value\"]\n",
    "            prevYear = data[\"year\"]\n",
    "        monthly[prevYear] = all_months\n",
    "        all_months[data[\"month\"]] = data[\"value\"]\n",
    "        country_obj[\"yearly\"] = yearly\n",
    "        country_obj[\"monthly\"] = monthly\n",
    "        \n",
    "    origin_files = [f for f in listdir(countries_root+country_folder) if 'from' in f]\n",
    "    origins = {}\n",
    "    for origin_file in origin_files:\n",
    "        with open('{0}{1}/{2}'.format(countries_root, country_folder, origin_file)) as data_file:\n",
    "                data = json.load(data_file)[0]\n",
    "                origins[data[\"country_of_origin_en\"]] = data[\"value\"]\n",
    "    country_obj[\"origins\"] = origins\n",
    "    all_data[country_folder] = country_obj\n",
    "\n",
    "all_data.pop(\"Malta\", None)\n",
    "\n",
    "print all_data\n",
    "\n",
    "with open('json_store/all_data.json', 'w') as outfile:\n",
    "    json.dump(all_data, outfile)"
   ]
  },
  {
   "cell_type": "code",
   "execution_count": 59,
   "metadata": {
    "collapsed": false
   },
   "outputs": [
    {
     "name": "stdout",
     "output_type": "stream",
     "text": [
      "{'deaths': {u'2015': {u'11': 106, u'10': 432, u'12': 210, u'1': 82, u'3': 61, u'2': 345, u'5': 95, u'4': 1244, u'7': 230, u'6': 11, u'9': 268, u'8': 686}, u'2014': {u'11': 22, u'10': 126, u'12': 95, u'1': 12, u'3': 10, u'2': 24, u'5': 329, u'4': 50, u'7': 864, u'6': 318, u'9': 813, u'8': 616}, u'2016': {u'11': 0, u'10': 0, u'12': 0, u'1': 369, u'3': 325, u'2': 54, u'5': 1138, u'4': 630, u'7': 0, u'6': 345, u'9': 0, u'8': 0}}, 'Italy': {2016: {1: {'Ghana': 14, 'Tunisia': 4, 'Egypt': 25, 'Ethiopia': 14, 'Senegal': 36, 'Somalia': 48, 'Guinea-Bissau': 4, 'Mali': 36, 'Cameroon': 11, 'Sierra Leone': 3, 'Benin': 3}, 2: {'Ghana': 10, 'Tunisia': 3, 'Egypt': 18, 'Ethiopia': 10, 'Senegal': 26, 'Somalia': 35, 'Guinea-Bissau': 3, 'Mali': 26, 'Cameroon': 8, 'Sierra Leone': 2, 'Benin': 2}, 3: {'Ghana': 25, 'Tunisia': 8, 'Egypt': 46, 'Ethiopia': 26, 'Senegal': 65, 'Somalia': 88, 'Guinea-Bissau': 6, 'Mali': 67, 'Cameroon': 20, 'Sierra Leone': 6, 'Benin': 5}, 4: {'Ghana': 24, 'Tunisia': 8, 'Egypt': 44, 'Ethiopia': 24, 'Senegal': 62, 'Somalia': 83, 'Guinea-Bissau': 6, 'Mali': 63, 'Cameroon': 19, 'Sierra Leone': 5, 'Benin': 4}, 5: {'Ghana': 52, 'Tunisia': 17, 'Egypt': 95, 'Ethiopia': 53, 'Senegal': 134, 'Somalia': 181, 'Guinea-Bissau': 13, 'Mali': 137, 'Cameroon': 41, 'Sierra Leone': 11, 'Benin': 10}, 6: {'Ghana': 22, 'Tunisia': 7, 'Egypt': 40, 'Ethiopia': 22, 'Senegal': 57, 'Somalia': 76, 'Guinea-Bissau': 6, 'Mali': 58, 'Cameroon': 17, 'Sierra Leone': 5, 'Benin': 4}}, 2014: {1: {'Ghana': 6, 'Tunisia': 2, 'Egypt': 10, 'Ethiopia': 6, 'Senegal': 15, 'Somalia': 20, 'Guinea-Bissau': 1, 'Mali': 15, 'Cameroon': 4, 'Sierra Leone': 1, 'Benin': 1}, 2: {'Ghana': 9, 'Tunisia': 3, 'Egypt': 16, 'Ethiopia': 9, 'Senegal': 23, 'Somalia': 30, 'Guinea-Bissau': 2, 'Mali': 23, 'Cameroon': 7, 'Sierra Leone': 2, 'Benin': 2}, 3: {'Ghana': 14, 'Tunisia': 5, 'Egypt': 26, 'Ethiopia': 15, 'Senegal': 37, 'Somalia': 50, 'Guinea-Bissau': 4, 'Mali': 38, 'Cameroon': 11, 'Sierra Leone': 3, 'Benin': 3}, 4: {'Ghana': 41, 'Tunisia': 13, 'Egypt': 75, 'Ethiopia': 42, 'Senegal': 106, 'Somalia': 142, 'Guinea-Bissau': 10, 'Mali': 108, 'Cameroon': 32, 'Sierra Leone': 9, 'Benin': 8}, 5: {'Ghana': 38, 'Tunisia': 12, 'Egypt': 70, 'Ethiopia': 39, 'Senegal': 98, 'Somalia': 132, 'Guinea-Bissau': 10, 'Mali': 100, 'Cameroon': 30, 'Sierra Leone': 8, 'Benin': 7}, 6: {'Ghana': 59, 'Tunisia': 19, 'Egypt': 108, 'Ethiopia': 60, 'Senegal': 153, 'Somalia': 205, 'Guinea-Bissau': 15, 'Mali': 156, 'Cameroon': 46, 'Sierra Leone': 13, 'Benin': 11}, 7: {'Ghana': 63, 'Tunisia': 20, 'Egypt': 115, 'Ethiopia': 64, 'Senegal': 162, 'Somalia': 218, 'Guinea-Bissau': 16, 'Mali': 165, 'Cameroon': 49, 'Sierra Leone': 14, 'Benin': 12}, 8: {'Ghana': 65, 'Tunisia': 21, 'Egypt': 118, 'Ethiopia': 66, 'Senegal': 167, 'Somalia': 225, 'Guinea-Bissau': 17, 'Mali': 170, 'Cameroon': 51, 'Sierra Leone': 14, 'Benin': 12}, 9: {'Ghana': 68, 'Tunisia': 22, 'Egypt': 125, 'Ethiopia': 69, 'Senegal': 176, 'Somalia': 237, 'Guinea-Bissau': 17, 'Mali': 180, 'Cameroon': 53, 'Sierra Leone': 15, 'Benin': 13}, 10: {'Ghana': 40, 'Tunisia': 13, 'Egypt': 73, 'Ethiopia': 41, 'Senegal': 103, 'Somalia': 139, 'Guinea-Bissau': 10, 'Mali': 105, 'Cameroon': 31, 'Sierra Leone': 9, 'Benin': 7}, 11: {'Ghana': 24, 'Tunisia': 8, 'Egypt': 44, 'Ethiopia': 25, 'Senegal': 63, 'Somalia': 84, 'Guinea-Bissau': 6, 'Mali': 64, 'Cameroon': 19, 'Sierra Leone': 5, 'Benin': 4}, 12: {'Ghana': 18, 'Tunisia': 6, 'Egypt': 32, 'Ethiopia': 18, 'Senegal': 45, 'Somalia': 61, 'Guinea-Bissau': 4, 'Mali': 46, 'Cameroon': 14, 'Sierra Leone': 4, 'Benin': 3}}, 2015: {1: {'Ghana': 9, 'Tunisia': 3, 'Egypt': 17, 'Ethiopia': 9, 'Senegal': 24, 'Somalia': 32, 'Guinea-Bissau': 2, 'Mali': 24, 'Cameroon': 7, 'Sierra Leone': 2, 'Benin': 2}, 2: {'Ghana': 11, 'Tunisia': 4, 'Egypt': 21, 'Ethiopia': 12, 'Senegal': 29, 'Somalia': 40, 'Guinea-Bissau': 3, 'Mali': 30, 'Cameroon': 9, 'Sierra Leone': 2, 'Benin': 2}, 3: {'Ghana': 6, 'Tunisia': 2, 'Egypt': 11, 'Ethiopia': 6, 'Senegal': 15, 'Somalia': 21, 'Guinea-Bissau': 2, 'Mali': 16, 'Cameroon': 5, 'Sierra Leone': 1, 'Benin': 1}, 4: {'Ghana': 42, 'Tunisia': 14, 'Egypt': 77, 'Ethiopia': 43, 'Senegal': 108, 'Somalia': 146, 'Guinea-Bissau': 11, 'Mali': 110, 'Cameroon': 33, 'Sierra Leone': 9, 'Benin': 8}, 5: {'Ghana': 56, 'Tunisia': 18, 'Egypt': 101, 'Ethiopia': 57, 'Senegal': 143, 'Somalia': 193, 'Guinea-Bissau': 14, 'Mali': 146, 'Cameroon': 43, 'Sierra Leone': 12, 'Benin': 10}, 6: {'Ghana': 60, 'Tunisia': 19, 'Egypt': 109, 'Ethiopia': 61, 'Senegal': 154, 'Somalia': 208, 'Guinea-Bissau': 15, 'Mali': 157, 'Cameroon': 47, 'Sierra Leone': 13, 'Benin': 11}, 7: {'Ghana': 61, 'Tunisia': 20, 'Egypt': 111, 'Ethiopia': 62, 'Senegal': 156, 'Somalia': 210, 'Guinea-Bissau': 15, 'Mali': 159, 'Cameroon': 47, 'Sierra Leone': 13, 'Benin': 11}, 8: {'Ghana': 59, 'Tunisia': 19, 'Egypt': 108, 'Ethiopia': 60, 'Senegal': 153, 'Somalia': 205, 'Guinea-Bissau': 15, 'Mali': 155, 'Cameroon': 46, 'Sierra Leone': 13, 'Benin': 11}, 9: {'Ghana': 42, 'Tunisia': 13, 'Egypt': 76, 'Ethiopia': 42, 'Senegal': 107, 'Somalia': 144, 'Guinea-Bissau': 11, 'Mali': 109, 'Cameroon': 33, 'Sierra Leone': 9, 'Benin': 8}, 10: {'Ghana': 23, 'Tunisia': 8, 'Egypt': 43, 'Ethiopia': 24, 'Senegal': 60, 'Somalia': 81, 'Guinea-Bissau': 6, 'Mali': 61, 'Cameroon': 18, 'Sierra Leone': 5, 'Benin': 4}, 11: {'Ghana': 8, 'Tunisia': 3, 'Egypt': 15, 'Ethiopia': 9, 'Senegal': 22, 'Somalia': 29, 'Guinea-Bissau': 2, 'Mali': 22, 'Cameroon': 7, 'Sierra Leone': 2, 'Benin': 2}, 12: {'Ghana': 25, 'Tunisia': 8, 'Egypt': 46, 'Ethiopia': 26, 'Senegal': 65, 'Somalia': 87, 'Guinea-Bissau': 6, 'Mali': 66, 'Cameroon': 20, 'Sierra Leone': 6, 'Benin': 5}}}, 'Spain': {2016: {1: {'Kenya': 0, 'Cameroon': 8, 'Uganda': 0, 'Guinea-Bissau': 1, 'Mali': 1}, 2: {'Kenya': 0, 'Cameroon': 3, 'Uganda': 0, 'Guinea-Bissau': 0, 'Mali': 1}, 3: {'Kenya': 0, 'Cameroon': 5, 'Uganda': 0, 'Guinea-Bissau': 1, 'Mali': 1}, 4: {'Kenya': 0, 'Cameroon': 8, 'Uganda': 0, 'Guinea-Bissau': 1, 'Mali': 1}, 5: {'Kenya': 0, 'Cameroon': 0, 'Uganda': 0, 'Guinea-Bissau': 0, 'Mali': 0}, 6: {'Kenya': 0, 'Cameroon': 0, 'Uganda': 0, 'Guinea-Bissau': 0, 'Mali': 0}}, 2014: {1: {'Kenya': 0, 'Cameroon': 3, 'Uganda': 0, 'Guinea-Bissau': 0, 'Mali': 0}, 2: {'Kenya': 0, 'Cameroon': 1, 'Uganda': 0, 'Guinea-Bissau': 0, 'Mali': 0}, 3: {'Kenya': 0, 'Cameroon': 4, 'Uganda': 0, 'Guinea-Bissau': 1, 'Mali': 1}, 4: {'Kenya': 0, 'Cameroon': 3, 'Uganda': 0, 'Guinea-Bissau': 0, 'Mali': 0}, 5: {'Kenya': 0, 'Cameroon': 6, 'Uganda': 0, 'Guinea-Bissau': 1, 'Mali': 1}, 6: {'Kenya': 0, 'Cameroon': 5, 'Uganda': 0, 'Guinea-Bissau': 1, 'Mali': 1}, 7: {'Kenya': 0, 'Cameroon': 5, 'Uganda': 0, 'Guinea-Bissau': 1, 'Mali': 1}, 8: {'Kenya': 1, 'Cameroon': 32, 'Uganda': 1, 'Guinea-Bissau': 4, 'Mali': 5}, 9: {'Kenya': 0, 'Cameroon': 7, 'Uganda': 0, 'Guinea-Bissau': 1, 'Mali': 1}, 10: {'Kenya': 0, 'Cameroon': 6, 'Uganda': 0, 'Guinea-Bissau': 1, 'Mali': 1}, 11: {'Kenya': 0, 'Cameroon': 4, 'Uganda': 0, 'Guinea-Bissau': 1, 'Mali': 1}, 12: {'Kenya': 0, 'Cameroon': 6, 'Uganda': 0, 'Guinea-Bissau': 1, 'Mali': 1}}, 2015: {1: {'Kenya': 0, 'Cameroon': 5, 'Uganda': 0, 'Guinea-Bissau': 1, 'Mali': 1}, 2: {'Kenya': 0, 'Cameroon': 1, 'Uganda': 0, 'Guinea-Bissau': 0, 'Mali': 0}, 3: {'Kenya': 0, 'Cameroon': 5, 'Uganda': 0, 'Guinea-Bissau': 1, 'Mali': 1}, 4: {'Kenya': 0, 'Cameroon': 5, 'Uganda': 0, 'Guinea-Bissau': 1, 'Mali': 1}, 5: {'Kenya': 0, 'Cameroon': 8, 'Uganda': 0, 'Guinea-Bissau': 1, 'Mali': 1}, 6: {'Kenya': 0, 'Cameroon': 7, 'Uganda': 0, 'Guinea-Bissau': 1, 'Mali': 1}, 7: {'Kenya': 0, 'Cameroon': 7, 'Uganda': 0, 'Guinea-Bissau': 1, 'Mali': 1}, 8: {'Kenya': 0, 'Cameroon': 7, 'Uganda': 0, 'Guinea-Bissau': 1, 'Mali': 1}, 9: {'Kenya': 0, 'Cameroon': 9, 'Uganda': 0, 'Guinea-Bissau': 1, 'Mali': 1}, 10: {'Kenya': 0, 'Cameroon': 15, 'Uganda': 0, 'Guinea-Bissau': 2, 'Mali': 2}, 11: {'Kenya': 0, 'Cameroon': 10, 'Uganda': 0, 'Guinea-Bissau': 1, 'Mali': 2}, 12: {'Kenya': 0, 'Cameroon': 6, 'Uganda': 0, 'Guinea-Bissau': 1, 'Mali': 1}}}, 'Greece': {2016: {1: {'Afghanistan': 2523, 'Syrian Arab Rep.': 4815, 'Iraq': 1532, 'Pakistan': 402}, 2: {'Afghanistan': 2136, 'Syrian Arab Rep.': 4076, 'Iraq': 1297, 'Pakistan': 341}, 3: {'Afghanistan': 1009, 'Syrian Arab Rep.': 1926, 'Iraq': 613, 'Pakistan': 161}, 4: {'Afghanistan': 137, 'Syrian Arab Rep.': 261, 'Iraq': 83, 'Pakistan': 22}, 5: {'Afghanistan': 64, 'Syrian Arab Rep.': 123, 'Iraq': 39, 'Pakistan': 10}, 6: {'Afghanistan': 37, 'Syrian Arab Rep.': 70, 'Iraq': 22, 'Pakistan': 6}}, 2014: {1: {'Afghanistan': 36, 'Syrian Arab Rep.': 68, 'Iraq': 22, 'Pakistan': 6}, 2: {'Afghanistan': 37, 'Syrian Arab Rep.': 71, 'Iraq': 23, 'Pakistan': 6}, 3: {'Afghanistan': 56, 'Syrian Arab Rep.': 107, 'Iraq': 34, 'Pakistan': 9}, 4: {'Afghanistan': 47, 'Syrian Arab Rep.': 90, 'Iraq': 29, 'Pakistan': 8}, 5: {'Afghanistan': 64, 'Syrian Arab Rep.': 122, 'Iraq': 39, 'Pakistan': 10}, 6: {'Afghanistan': 120, 'Syrian Arab Rep.': 228, 'Iraq': 73, 'Pakistan': 19}, 7: {'Afghanistan': 147, 'Syrian Arab Rep.': 280, 'Iraq': 89, 'Pakistan': 23}, 8: {'Afghanistan': 252, 'Syrian Arab Rep.': 482, 'Iraq': 153, 'Pakistan': 40}, 9: {'Afghanistan': 279, 'Syrian Arab Rep.': 532, 'Iraq': 169, 'Pakistan': 44}, 10: {'Afghanistan': 278, 'Syrian Arab Rep.': 531, 'Iraq': 169, 'Pakistan': 44}, 11: {'Afghanistan': 143, 'Syrian Arab Rep.': 272, 'Iraq': 87, 'Pakistan': 23}, 12: {'Afghanistan': 77, 'Syrian Arab Rep.': 147, 'Iraq': 47, 'Pakistan': 12}}, 2015: {1: {'Afghanistan': 63, 'Syrian Arab Rep.': 121, 'Iraq': 39, 'Pakistan': 10}, 2: {'Afghanistan': 108, 'Syrian Arab Rep.': 205, 'Iraq': 65, 'Pakistan': 17}, 3: {'Afghanistan': 295, 'Syrian Arab Rep.': 562, 'Iraq': 179, 'Pakistan': 47}, 4: {'Afghanistan': 507, 'Syrian Arab Rep.': 968, 'Iraq': 308, 'Pakistan': 81}, 5: {'Afghanistan': 669, 'Syrian Arab Rep.': 1278, 'Iraq': 407, 'Pakistan': 107}, 6: {'Afghanistan': 1172, 'Syrian Arab Rep.': 2237, 'Iraq': 712, 'Pakistan': 187}, 7: {'Afghanistan': 2054, 'Syrian Arab Rep.': 3921, 'Iraq': 1248, 'Pakistan': 328}, 8: {'Afghanistan': 4036, 'Syrian Arab Rep.': 7702, 'Iraq': 2451, 'Pakistan': 644}, 9: {'Afghanistan': 5506, 'Syrian Arab Rep.': 10507, 'Iraq': 3344, 'Pakistan': 878}, 10: {'Afghanistan': 7921, 'Syrian Arab Rep.': 15117, 'Iraq': 4811, 'Pakistan': 1263}, 11: {'Afghanistan': 5660, 'Syrian Arab Rep.': 10802, 'Iraq': 3438, 'Pakistan': 903}, 12: {'Afghanistan': 4069, 'Syrian Arab Rep.': 7766, 'Iraq': 2472, 'Pakistan': 649}}}}\n"
     ]
    }
   ],
   "source": [
    "processed_data = {}\n",
    "with open('json_store/all_data.json') as data_file: \n",
    "    data = json.load(data_file)\n",
    "    proc_country_data = {}\n",
    "    for country_code in country_folders:\n",
    "        country_data = data[country_code]\n",
    "        origin_data = country_data[\"origins\"]\n",
    "        years_data = {}\n",
    "        for i in range(0, 3):\n",
    "            year = unicode(i + 2014)\n",
    "            year_data = {}\n",
    "            yearsum = 0;\n",
    "            if \"yearly\" in country_data:\n",
    "                for year_key, year_val in country_data[\"yearly\"].iteritems():\n",
    "                    yearsum += year_val\n",
    "                months_data = {}\n",
    "                for month_key, month_val in sorted(country_data[\"monthly\"][year].iteritems()):\n",
    "                    origin_data = {}\n",
    "                    for origin, origin_val in country_data[\"origins\"].iteritems():\n",
    "                        origin_data[str(origin)] = immigrated_in_month_from(yearsum, origin_val, month_val)\n",
    "                    months_data[int(month_key)] = origin_data\n",
    "                years_data[int(year)] = months_data\n",
    "        proc_country_data[country_code] = years_data\n",
    "processed_data = proc_country_data\n",
    "\n",
    "with open('json_store/deaths.json') as data_file:            \n",
    "    processed_data[\"deaths\"] = json.load(data_file)\n",
    "\n",
    "print processed_data\n",
    "\n",
    "with open('json_store/processed_data.json', 'w') as outfile:\n",
    "    json.dump(processed_data, outfile)"
   ]
  },
  {
   "cell_type": "code",
   "execution_count": null,
   "metadata": {
    "collapsed": true
   },
   "outputs": [],
   "source": []
  },
  {
   "cell_type": "code",
   "execution_count": null,
   "metadata": {
    "collapsed": true
   },
   "outputs": [],
   "source": []
  }
 ],
 "metadata": {
  "kernelspec": {
   "display_name": "Python 2",
   "language": "python",
   "name": "python2"
  },
  "language_info": {
   "codemirror_mode": {
    "name": "ipython",
    "version": 2
   },
   "file_extension": ".py",
   "mimetype": "text/x-python",
   "name": "python",
   "nbconvert_exporter": "python",
   "pygments_lexer": "ipython2",
   "version": "2.7.11"
  }
 },
 "nbformat": 4,
 "nbformat_minor": 0
}
