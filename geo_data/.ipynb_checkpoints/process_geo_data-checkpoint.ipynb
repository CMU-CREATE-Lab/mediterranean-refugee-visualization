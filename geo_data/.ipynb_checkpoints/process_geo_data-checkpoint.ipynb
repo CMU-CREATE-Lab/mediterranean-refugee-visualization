{
 "cells": [
  {
   "cell_type": "code",
   "execution_count": 1,
   "metadata": {
    "collapsed": false
   },
   "outputs": [
    {
     "name": "stdout",
     "output_type": "stream",
     "text": [
      "Invalid: U.S. Minor Outlying Islands, , \n"
     ]
    }
   ],
   "source": [
    "import json, csv\n",
    "\n",
    "with open('country_list.json') as data_file:    \n",
    "    countries = json.load(data_file)\n",
    "\n",
    "with open('country_lat_long.csv', 'r') as csvfile:\n",
    "    country_lat_lon = {}\n",
    "    fieldnames = ['name', 'lat', 'lon']\n",
    "    reader = csv.DictReader(csvfile, fieldnames=fieldnames)\n",
    "    for row in reader:\n",
    "        try:\n",
    "            lat_lon = {}\n",
    "            lat_lon[\"lat\"] = float(row[\"lat\"])\n",
    "            lat_lon[\"lon\"] = float(row[\"lon\"])\n",
    "            country_lat_lon[str(row[\"name\"])] = lat_lon\n",
    "        except ValueError:\n",
    "            print \"Invalid: {0}, {1}, {2}\".format(row[\"name\"],row[\"lat\"],row[\"lon\"])\n",
    "\n",
    "def get_country_code(name):\n",
    "    for country in countries:\n",
    "        if name.lower()==country[\"name_en\"].lower():\n",
    "            return country[\"country_code\"]\n",
    "    return None\n",
    "\n",
    "def get_country_name(code):\n",
    "    for country in countries:\n",
    "        if code.lower()==country[\"country_code\"].lower():\n",
    "            return country[\"name_en\"]\n",
    "    return None\n",
    "\n",
    "def get_all_country_codes():\n",
    "    return [country[\"country_code\"] for country in countries]\n",
    "\n",
    "def get_lat_lon_by_name(name):\n",
    "    return country_lat_lon[name]\n",
    "\n",
    "def get_lat_lon_by_code(code):\n",
    "    return get_lat_lon_by_name(get_country_name(code))\n"
   ]
  },
  {
   "cell_type": "code",
   "execution_count": 2,
   "metadata": {
    "collapsed": false,
    "scrolled": true
   },
   "outputs": [
    {
     "name": "stdout",
     "output_type": "stream",
     "text": [
      "Malta\n",
      "{'lat': 35.937496, 'lon': 14.375416}\n"
     ]
    }
   ],
   "source": [
    "print get_country_name(\"MTA\")\n",
    "print get_lat_lon_by_code(\"MTA\")"
   ]
  },
  {
   "cell_type": "code",
   "execution_count": 5,
   "metadata": {
    "collapsed": false
   },
   "outputs": [
    {
     "ename": "SyntaxError",
     "evalue": "invalid syntax (<ipython-input-5-0a44383877c5>, line 6)",
     "output_type": "error",
     "traceback": [
      "\u001b[1;36m  File \u001b[1;32m\"<ipython-input-5-0a44383877c5>\"\u001b[1;36m, line \u001b[1;32m6\u001b[0m\n\u001b[1;33m    for key in data\u001b[0m\n\u001b[1;37m                   ^\u001b[0m\n\u001b[1;31mSyntaxError\u001b[0m\u001b[1;31m:\u001b[0m invalid syntax\n"
     ]
    }
   ],
   "source": [
    "geo_data = {}\n",
    "with open('../json_store/all_data.json') as data_file:\n",
    "    data = json.load(data_file)\n",
    "    asyl_geo = {}\n",
    "    origin_geo = {}\n",
    "    for key in data\n",
    "        asyl_data[key] = get_lat_lon_by_code(key)\n",
    "        for or_key in data[key][\"origins\"]:\n",
    "            origin_geo[or_key] = get_lat_lon_by_code(or_key)\n",
    "            \n",
    "        \n",
    "        "
   ]
  },
  {
   "cell_type": "code",
   "execution_count": null,
   "metadata": {
    "collapsed": true
   },
   "outputs": [],
   "source": []
  }
 ],
 "metadata": {
  "kernelspec": {
   "display_name": "Python 2",
   "language": "python",
   "name": "python2"
  },
  "language_info": {
   "codemirror_mode": {
    "name": "ipython",
    "version": 2
   },
   "file_extension": ".py",
   "mimetype": "text/x-python",
   "name": "python",
   "nbconvert_exporter": "python",
   "pygments_lexer": "ipython2",
   "version": "2.7.11"
  }
 },
 "nbformat": 4,
 "nbformat_minor": 0
}
