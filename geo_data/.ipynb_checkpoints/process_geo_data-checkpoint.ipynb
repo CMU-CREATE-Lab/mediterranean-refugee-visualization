{
 "cells": [
  {
   "cell_type": "code",
   "execution_count": 92,
   "metadata": {
    "collapsed": false
   },
   "outputs": [
    {
     "name": "stdout",
     "output_type": "stream",
     "text": [
      "Invalid: U.S. Minor Outlying Islands, , \n"
     ]
    }
   ],
   "source": [
    "import json, csv\n",
    "\n",
    "with open('country_list.json') as data_file:    \n",
    "    countries = json.load(data_file)\n",
    "\n",
    "with open('country_lat_long.csv', 'r') as csvfile:\n",
    "    country_lat_lon = {}\n",
    "    fieldnames = ['name', 'lat', 'lon']\n",
    "    reader = csv.DictReader(csvfile, fieldnames=fieldnames)\n",
    "    for row in reader:\n",
    "        try:\n",
    "            lat_lon = {}\n",
    "            lat_lon[\"lat\"] = float(row[\"lat\"])\n",
    "            lat_lon[\"lon\"] = float(row[\"lon\"])\n",
    "            country_lat_lon[str(row[\"name\"])] = lat_lon\n",
    "        except ValueError:\n",
    "            print \"Invalid: {0}, {1}, {2}\".format(row[\"name\"],row[\"lat\"],row[\"lon\"])\n",
    "\n",
    "def get_country_code(name):\n",
    "    for country in countries:\n",
    "        if name.lower() == country[\"name_en\"].lower():\n",
    "            return country[\"country_code\"]\n",
    "    return None\n",
    "\n",
    "def get_country_name(code):\n",
    "    for country in countries:\n",
    "        if code.lower() == country[\"country_code\"].lower():\n",
    "            return country[\"name_en\"]\n",
    "    return None\n",
    "\n",
    "def get_all_country_codes():\n",
    "    return [country[\"country_code\"] for country in countries]\n",
    "\n",
    "def get_lat_lon_by_name(name):\n",
    "    return country_lat_lon[name]\n",
    "\n",
    "def get_lat_lon_by_code(code):\n",
    "    return get_lat_lon_by_name(get_country_name(code))\n"
   ]
  },
  {
   "cell_type": "code",
   "execution_count": 93,
   "metadata": {
    "collapsed": false,
    "scrolled": true
   },
   "outputs": [
    {
     "name": "stdout",
     "output_type": "stream",
     "text": [
      "Sierra Leone\n",
      "{'lat': 39.074208, 'lon': 21.824312}\n",
      "SLE\n"
     ]
    }
   ],
   "source": [
    "print get_country_name(\"SLE\")\n",
    "print get_lat_lon_by_code(\"GRE\")\n",
    "\n",
    "print get_country_code(\"Sierra Leone\")\n"
   ]
  },
  {
   "cell_type": "code",
   "execution_count": 97,
   "metadata": {
    "collapsed": false
   },
   "outputs": [
    {
     "name": "stdout",
     "output_type": "stream",
     "text": [
      "{'origin_geo': {'Ghana': {'lat': 7.946527, 'lon': -1.023194}, 'Afghanistan': {'lat': 33.93911, 'lon': 67.709953}, 'Uganda': {'lat': 1.373333, 'lon': 32.290275}, 'Tunisia': {'lat': 33.886917, 'lon': 9.537499}, 'Egypt': {'lat': 26.820553, 'lon': 30.802498}, 'Syrian Arab Rep.': {'lat': 34.802075, 'lon': 38.996815}, 'Ethiopia': {'lat': 9.145, 'lon': 40.489673}, 'Senegal': {'lat': 14.497401, 'lon': -14.452362}, 'Pakistan': {'lat': 30.375321, 'lon': 69.345116}, 'Somalia': {'lat': 5.152149, 'lon': 46.199616}, 'Guinea-Bissau': {'lat': 11.803749, 'lon': -15.180413}, 'Mali': {'lat': 17.570692, 'lon': -3.996166}, 'Kenya': {'lat': -0.023559, 'lon': 37.906193}, 'Iraq': {'lat': 33.223191, 'lon': 43.679291}, 'Cameroon': {'lat': 7.369722, 'lon': 12.354722}, 'Sierra Leone': {'lat': 8.460555, 'lon': -11.779889}, 'Benin': {'lat': 9.30769, 'lon': 2.315834}}, 'asylum_geo': {'Italy': {'lat': 41.87194, 'lon': 12.56738}, 'Spain': {'lat': 40.463667, 'lon': -3.74922}, 'Malta': {'lat': 35.937496, 'lon': 14.375416}, 'Greece': {'lat': 39.074208, 'lon': 21.824312}}, 'path_geo': {'Ghana': {'Italy': [{'lat': 7.946527, 'lon': -1.023194}, {'lat': 17.607789, 'lon': 8.081666}, {'lat': 26.3351, 'lon': 17.228331}, {'lat': 41.87194, 'lon': 12.56738}]}, 'Afghanistan': {'Greece': [{'lat': 33.93911, 'lon': 67.709953}, {'lat': 32.427908, 'lon': 53.688046}, {'lat': 38.963745, 'lon': 35.243322}, {'lat': 39.074208, 'lon': 21.824312}]}, 'Uganda': {'Italy': [{'lat': 9.145, 'lon': 40.489673}, {'lat': 12.862807, 'lon': 30.217636}, {'lat': 26.3351, 'lon': 17.228331}, {'lat': 41.87194, 'lon': 12.56738}], 'Spain': [{'lat': 1.373333, 'lon': 32.290275}, {'lat': 12.862807, 'lon': 30.217636}, {'lat': 26.3351, 'lon': 17.228331}, {'lat': 28.033886, 'lon': 1.659626}, {'lat': 31.791702, 'lon': -7.09262}, {'lat': 40.463667, 'lon': -3.74922}]}, 'Pakistan': {'Italy': [{'lat': 30.375321, 'lon': 69.345116}, {'lat': 32.427908, 'lon': 53.688046}, {'lat': 38.963745, 'lon': 35.243322}, {'lat': 42.733883, 'lon': 25.48583}, {'lat': 47.516231, 'lon': 14.550072}, {'lat': 41.87194, 'lon': 12.56738}], 'Greece': [{'lat': 30.375321, 'lon': 69.345116}, {'lat': 32.427908, 'lon': 53.688046}, {'lat': 38.963745, 'lon': 35.243322}, {'lat': 39.074208, 'lon': 21.824312}]}, 'Tunisia': {'Italy': [{'lat': 33.886917, 'lon': 9.537499}, {'lat': 35.937496, 'lon': 14.375416}, {'lat': 41.87194, 'lon': 12.56738}]}, 'United Arab Emirates': {'Italy': [{'lat': 23.424076, 'lon': 53.847818}, {'lat': 23.885942, 'lon': 45.079162}, {'lat': 30.585164, 'lon': 36.238414}, {'lat': 26.820553, 'lon': 30.802498}, {'lat': 26.3351, 'lon': 17.228331}, {'lat': 41.87194, 'lon': 12.56738}]}, 'Senegal': {'Italy': [{'lat': 14.497401, 'lon': -14.452362}, {'lat': 17.607789, 'lon': 8.081666}, {'lat': 26.3351, 'lon': 17.228331}, {'lat': 41.87194, 'lon': 12.56738}], 'Spain': [{'lat': 14.497401, 'lon': -14.452362}, {'lat': 17.570692, 'lon': -3.996166}, {'lat': 28.033886, 'lon': 1.659626}, {'lat': 31.791702, 'lon': -7.09262}, {'lat': 40.463667, 'lon': -3.74922}]}, 'Ethiopia': {'Italy': [{'lat': 9.145, 'lon': 40.489673}, {'lat': 12.862807, 'lon': 30.217636}, {'lat': 26.3351, 'lon': 17.228331}, {'lat': 41.87194, 'lon': 12.56738}]}, 'Syrian Arab Republic': {'Greece': [{'lat': 34.802075, 'lon': 38.996815}, {'lat': 38.963745, 'lon': 35.243322}, {'lat': 39.074208, 'lon': 21.824312}]}, 'Mozambique': {'Spain': [{'lat': -18.665695, 'lon': 35.529562}, {'lat': -6.369028, 'lon': 34.888822}, {'lat': -0.023559, 'lon': 37.906193}, {'lat': 9.145, 'lon': 40.489673}, {'lat': 12.862807, 'lon': 30.217636}, {'lat': 26.3351, 'lon': 17.228331}, {'lat': 28.033886, 'lon': 1.659626}, {'lat': 31.791702, 'lon': -7.09262}, {'lat': 40.463667, 'lon': -3.74922}]}, 'Somalia': {'Italy': [{'lat': 5.152149, 'lon': 46.199616}, {'lat': 9.145, 'lon': 40.489673}, {'lat': 12.862807, 'lon': 30.217636}, {'lat': 26.3351, 'lon': 17.228331}, {'lat': 41.87194, 'lon': 12.56738}]}, 'Guinea-Bissau': {'Italy': [{'lat': 11.803749, 'lon': -15.180413}, {'lat': 17.570692, 'lon': -3.996166}, {'lat': 17.607789, 'lon': 8.081666}, {'lat': 26.3351, 'lon': 17.228331}, {'lat': 41.87194, 'lon': 12.56738}], 'Spain': [{'lat': 11.803749, 'lon': -15.180413}, {'lat': 17.570692, 'lon': -3.996166}, {'lat': 28.033886, 'lon': 1.659626}, {'lat': 31.791702, 'lon': -7.09262}, {'lat': 40.463667, 'lon': -3.74922}]}, 'Mali': {'Italy': [{'lat': 17.570692, 'lon': -3.996166}, {'lat': 17.607789, 'lon': 8.081666}, {'lat': 26.3351, 'lon': 17.228331}, {'lat': 41.87194, 'lon': 12.56738}], 'Spain': [{'lat': 17.570692, 'lon': -3.996166}, {'lat': 28.033886, 'lon': 1.659626}, {'lat': 31.791702, 'lon': -7.09262}, {'lat': 40.463667, 'lon': -3.74922}]}, 'Kenya': {'Spain': [{'lat': -0.023559, 'lon': 37.906193}, {'lat': 12.862807, 'lon': 30.217636}, {'lat': 26.3351, 'lon': 17.228331}, {'lat': 28.033886, 'lon': 1.659626}, {'lat': 31.791702, 'lon': -7.09262}, {'lat': 40.463667, 'lon': -3.74922}]}, 'Iraq': {'Greece': [{'lat': 33.223191, 'lon': 43.679291}, {'lat': 38.963745, 'lon': 35.243322}, {'lat': 39.074208, 'lon': 21.824312}]}, 'Cameroon': {'Italy': [{'lat': 7.369722, 'lon': 12.354722}, {'lat': 17.607789, 'lon': 8.081666}, {'lat': 26.3351, 'lon': 17.228331}, {'lat': 41.87194, 'lon': 12.56738}], 'Spain': [{'lat': 7.369722, 'lon': 12.354722}, {'lat': 17.607789, 'lon': 8.081666}, {'lat': 28.033886, 'lon': 1.659626}, {'lat': 31.791702, 'lon': -7.09262}, {'lat': 40.463667, 'lon': -3.74922}]}, 'Sierra Leone': {'Italy': [{'lat': 8.460555, 'lon': -11.779889}, {'lat': 17.570692, 'lon': -3.996166}, {'lat': 31.791702, 'lon': -7.09262}, {'lat': 40.463667, 'lon': -3.74922}]}, 'Benin': {'Italy': [{'lat': 9.30769, 'lon': 2.315834}, {'lat': 17.607789, 'lon': 8.081666}, {'lat': 26.3351, 'lon': 17.228331}, {'lat': 41.87194, 'lon': 12.56738}]}}}\n"
     ]
    }
   ],
   "source": [
    "geo_data = {}\n",
    "path_geo = {}\n",
    "with open('../json_store/all_data.json') as data_file:\n",
    "    data = json.load(data_file)\n",
    "    asyl_geo = {}\n",
    "    origin_geo = {}\n",
    "    for key in data:\n",
    "        asyl_geo[str(key)] = get_lat_lon_by_name(key)\n",
    "        for or_key in data[key][\"origins\"]:\n",
    "            origin_geo[str(or_key)] = get_lat_lon_by_name(or_key)\n",
    "            if not (key in path_geo): \n",
    "                path_geo[key] = {}\n",
    "            if not (or_key in path_geo[key]):\n",
    "                path_geo[key][or_key] = []\n",
    "geo_data['asylum_geo'] = asyl_geo\n",
    "geo_data['origin_geo'] = origin_geo\n",
    "\n",
    "path_geo = {}\n",
    "with open(\"./path_by_country.json\") as data_file:\n",
    "    data = json.load(data_file);\n",
    "    for or_key in data:        \n",
    "        path_geo[str(or_key)] = {}\n",
    "        for asyl_key in data[or_key]:\n",
    "            path_geo[or_key][str(asyl_key)] = [get_lat_lon_by_name(str(country)) for country in data[or_key][asyl_key]]\n",
    "\n",
    "geo_data[\"path_geo\"] = path_geo\n",
    "\n",
    "print geo_data\n",
    "\n",
    "with open('geo_data.json', 'w') as outfile:\n",
    "    json.dump(geo_data, outfile)"
   ]
  },
  {
   "cell_type": "code",
   "execution_count": null,
   "metadata": {
    "collapsed": true
   },
   "outputs": [],
   "source": []
  }
 ],
 "metadata": {
  "kernelspec": {
   "display_name": "Python 2",
   "language": "python",
   "name": "python2"
  },
  "language_info": {
   "codemirror_mode": {
    "name": "ipython",
    "version": 2
   },
   "file_extension": ".py",
   "mimetype": "text/x-python",
   "name": "python",
   "nbconvert_exporter": "python",
   "pygments_lexer": "ipython2",
   "version": "2.7.11"
  }
 },
 "nbformat": 4,
 "nbformat_minor": 0
}
