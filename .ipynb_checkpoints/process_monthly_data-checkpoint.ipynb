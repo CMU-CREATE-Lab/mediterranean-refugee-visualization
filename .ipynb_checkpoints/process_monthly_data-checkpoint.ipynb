{
 "cells": [
  {
   "cell_type": "code",
   "execution_count": 43,
   "metadata": {
    "collapsed": false
   },
   "outputs": [
    {
     "name": "stdout",
     "output_type": "stream",
     "text": [
      "['Greece', 'Spain', 'Italy']\n"
     ]
    }
   ],
   "source": [
    "import json\n",
    "\n",
    "from os import listdir\n",
    "from os.path import isfile, join, isdir\n",
    "\n",
    "countries_root = 'json_store/by_country/'\n",
    "\n",
    "country_folders = [f for f in listdir(countries_root) if not isdir(f)]\n",
    "print country_folders\n",
    "\n",
    "#calculates amount of people who immigrated into a country from \n",
    "#a certain place within the month \n",
    "def immigrated_in_month_from(total_year, total_from_year, total_month):\n",
    "    percent_from = total_from_year/float(total_year)\n",
    "    return int(round(total_month*percent_from, 0))\n",
    "    \n",
    "\n",
    "\n",
    "# with open('json_store/monthly_by_country.json') as data_file:    \n",
    "#     monthly_data = json.load(data_file)"
   ]
  },
  {
   "cell_type": "code",
   "execution_count": 57,
   "metadata": {
    "collapsed": false,
    "scrolled": true
   },
   "outputs": [
    {
     "name": "stdout",
     "output_type": "stream",
     "text": [
      "Greece\n",
      "Spain\n",
      "Italy\n",
      "{'Italy': {'yearly': {2016: 56227, 2014: 170100, 2015: 153842}, 'monthly': {2016: {1: 5273, 2: 3828, 3: 9676, 4: 9149, 5: 19925, 6: 8376}, 2014: {1: 2171, 2: 3335, 3: 5459, 4: 15679, 5: 14599, 6: 22641, 7: 24031, 8: 24774, 9: 26107, 10: 15277, 11: 9295, 12: 6732}, 2015: {1: 3528, 2: 4354, 3: 2283, 4: 16063, 5: 21235, 6: 22891, 7: 23186, 8: 22609, 9: 15922, 10: 8916, 11: 3218, 12: 9637}}, 'origins': {u'Ghana': 995, u'Ethiopia': 1012, u'Egypt': 1815, u'Tunisia': 320, u'Senegal': 2565, u'Somalia': 3450, u'Guinea-Bissau': 254, u'Mali': 2614, u'Cameroon': 777, u'Sierra Leone': 217, u'Benin': 183}}}\n"
     ]
    }
   ],
   "source": [
    "all_data = {}\n",
    "\n",
    "for country_folder in country_folders:\n",
    "    country_obj = {}\n",
    "    print country_folder\n",
    "    with open('{0}{1}/monthly{1}.json'.format(countries_root, country_folder)) as data_file: \n",
    "        data_f = json.load(data_file)\n",
    "        prevYear = data_f[0][\"year\"] \n",
    "        all_months = {}\n",
    "        monthly = {}\n",
    "        yearly = {}\n",
    "        for data in data_f:\n",
    "            yearly[data[\"year\"]] = yearly.get(data[\"year\"], 0) + data[\"value\"]\n",
    "            if data[\"year\"] == prevYear:\n",
    "                all_months[data[\"month\"]] = data[\"value\"]\n",
    "            else:\n",
    "                monthly[prevYear] = all_months\n",
    "                all_months = {}\n",
    "                all_months[data[\"month\"]] = data[\"value\"]\n",
    "            prevYear = data[\"year\"]\n",
    "        monthly[prevYear] = all_months\n",
    "        all_months[data[\"month\"]] = data[\"value\"]\n",
    "        country_obj[\"yearly\"] = yearly\n",
    "        country_obj[\"monthly\"] = monthly\n",
    "        \n",
    "    origin_files = [f for f in listdir(countries_root+country_folder) if 'from' in f]\n",
    "    origins = {}\n",
    "    for origin_file in origin_files:\n",
    "        with open('{0}{1}/{2}'.format(countries_root, country_folder, origin_file)) as data_file:\n",
    "                data = json.load(data_file)[0]\n",
    "                origins[data[\"country_of_origin_en\"]] = data[\"value\"]\n",
    "    country_obj[\"origins\"] = origins\n",
    "    all_data[country_folder] = country_obj\n",
    "\n",
    "all_data.pop(\"Malta\", None)\n",
    "\n",
    "print all_data\n",
    "\n",
    "with open('json_store/all_data.json', 'w') as outfile:\n",
    "    json.dump(all_data, outfile)"
   ]
  },
  {
   "cell_type": "code",
   "execution_count": 54,
   "metadata": {
    "collapsed": false
   },
   "outputs": [
    {
     "ename": "KeyError",
     "evalue": "'Greece'",
     "output_type": "error",
     "traceback": [
      "\u001b[1;31m---------------------------------------------------------------------------\u001b[0m",
      "\u001b[1;31mKeyError\u001b[0m                                  Traceback (most recent call last)",
      "\u001b[1;32m<ipython-input-54-d6df0d05fc1b>\u001b[0m in \u001b[0;36m<module>\u001b[1;34m()\u001b[0m\n\u001b[0;32m      4\u001b[0m     \u001b[0mproc_country_data\u001b[0m \u001b[1;33m=\u001b[0m \u001b[1;33m{\u001b[0m\u001b[1;33m}\u001b[0m\u001b[1;33m\u001b[0m\u001b[0m\n\u001b[0;32m      5\u001b[0m     \u001b[1;32mfor\u001b[0m \u001b[0mcountry_code\u001b[0m \u001b[1;32min\u001b[0m \u001b[0mcountry_folders\u001b[0m\u001b[1;33m:\u001b[0m\u001b[1;33m\u001b[0m\u001b[0m\n\u001b[1;32m----> 6\u001b[1;33m         \u001b[0mcountry_data\u001b[0m \u001b[1;33m=\u001b[0m \u001b[0mdata\u001b[0m\u001b[1;33m[\u001b[0m\u001b[0mcountry_code\u001b[0m\u001b[1;33m]\u001b[0m\u001b[1;33m\u001b[0m\u001b[0m\n\u001b[0m\u001b[0;32m      7\u001b[0m         \u001b[0morigin_data\u001b[0m \u001b[1;33m=\u001b[0m \u001b[0mcountry_data\u001b[0m\u001b[1;33m[\u001b[0m\u001b[1;34m\"origins\"\u001b[0m\u001b[1;33m]\u001b[0m\u001b[1;33m\u001b[0m\u001b[0m\n\u001b[0;32m      8\u001b[0m         \u001b[0myears_data\u001b[0m \u001b[1;33m=\u001b[0m \u001b[1;33m{\u001b[0m\u001b[1;33m}\u001b[0m\u001b[1;33m\u001b[0m\u001b[0m\n",
      "\u001b[1;31mKeyError\u001b[0m: 'Greece'"
     ]
    }
   ],
   "source": [
    "processed_data = {}\n",
    "with open('json_store/all_data.json') as data_file: \n",
    "    data = json.load(data_file)\n",
    "    proc_country_data = {}\n",
    "    for country_code in country_folders:\n",
    "        country_data = data[country_code]\n",
    "        origin_data = country_data[\"origins\"]\n",
    "        years_data = {}\n",
    "        for i in range(0, 3):\n",
    "            year = unicode(i + 2014)\n",
    "            year_data = {}\n",
    "            yearsum = 0;\n",
    "            if \"yearly\" in country_data:\n",
    "                for year_key, year_val in country_data[\"yearly\"].iteritems():\n",
    "                    yearsum += year_val\n",
    "                months_data = {}\n",
    "                for month_key, month_val in sorted(country_data[\"monthly\"][year].iteritems()):\n",
    "                    origin_data = {}\n",
    "                    for origin, origin_val in country_data[\"origins\"].iteritems():\n",
    "                        origin_data[str(origin)] = immigrated_in_month_from(yearsum, origin_val, month_val)\n",
    "                    months_data[int(month_key)] = origin_data\n",
    "                years_data[int(year)] = months_data\n",
    "        proc_country_data[country_code] = years_data\n",
    "processed_data = proc_country_data\n",
    "\n",
    "with open('json_store/deaths.json') as data_file:            \n",
    "    processed_data[\"deaths\"] = json.load(data_file)\n",
    "\n",
    "print processed_data\n",
    "\n",
    "with open('json_store/processed_data.json', 'w') as outfile:\n",
    "    json.dump(processed_data, outfile)"
   ]
  },
  {
   "cell_type": "code",
   "execution_count": null,
   "metadata": {
    "collapsed": true
   },
   "outputs": [],
   "source": []
  },
  {
   "cell_type": "code",
   "execution_count": null,
   "metadata": {
    "collapsed": true
   },
   "outputs": [],
   "source": []
  }
 ],
 "metadata": {
  "kernelspec": {
   "display_name": "Python 2",
   "language": "python",
   "name": "python2"
  },
  "language_info": {
   "codemirror_mode": {
    "name": "ipython",
    "version": 2
   },
   "file_extension": ".py",
   "mimetype": "text/x-python",
   "name": "python",
   "nbconvert_exporter": "python",
   "pygments_lexer": "ipython2",
   "version": "2.7.11"
  }
 },
 "nbformat": 4,
 "nbformat_minor": 0
}
